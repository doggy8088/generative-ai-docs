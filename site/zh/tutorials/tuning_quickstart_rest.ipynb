{
  "cells": [
    {
      "cell_type": "markdown",
      "metadata": {
        "id": "Tce3stUlHN0L"
      },
      "source": [
        "##### 版權 2024 Google LLC.\n"
      ]
    },
    {
      "cell_type": "code",
      "execution_count": null,
      "metadata": {
        "cellView": "form",
        "id": "tuOe1ymfHZPu"
      },
      "outputs": [],
      "source": [
        "#@title Licensed under the Apache License, Version 2.0 (the \"License\");\n",
        "# you may not use this file except in compliance with the License.\n",
        "# You may obtain a copy of the License at\n",
        "#\n",
        "# https://www.apache.org/licenses/LICENSE-2.0\n",
        "#\n",
        "# Unless required by applicable law or agreed to in writing, software\n",
        "# distributed under the License is distributed on an \"AS IS\" BASIS,\n",
        "# WITHOUT WARRANTIES OR CONDITIONS OF ANY KIND, either express or implied.\n",
        "# See the License for the specific language governing permissions and\n",
        "# limitations under the License."
      ]
    },
    {
      "cell_type": "markdown",
      "metadata": {
        "id": "yeadDkMiISin"
      },
      "source": [
        "# REST API：調整入門指南\n"
      ]
    },
    {
      "cell_type": "markdown",
      "metadata": {
        "id": "lEXQ3OwKIa-O"
      },
      "source": [
        "<table class=\"tfo-notebook-buttons\" align=\"left\">\n",
        "  <td>\n",
        "    <a target=\"_blank\" href=\"https://ai.google.dev/tutorials/tuning_quickstart_rest\"><img src=\"https://ai.google.dev/static/site-assets/images/docs/notebook-site-button.png\" height=\"32\" width=\"32\" />檢視 ai.google.dev</a>\n",
        "  </td>\n",
        "  <td>\n",
        "    <a target=\"_blank\" href=\"https://colab.research.google.com/github/doggy8088/generative-ai-docs/blob/main/site/zh/tutorials/tuning_quickstart_rest.ipynb\"><img src=\"https://www.tensorflow.org/images/colab_logo_32px.png\" />在 Google Colab 中執行</a>\n",
        "  </td>\n",
        "  <td>\n",
        "    <a target=\"_blank\" href=\"https://github.com/doggy8088/generative-ai-docs/blob/main/site/zh/tutorials/tuning_quickstart_rest.ipynb\"><img src=\"https://www.tensorflow.org/images/GitHub-Mark-32px.png\" />在 GitHub 上檢視來源</a>\n",
        "  </td>\n",
        "  <td>\n",
        "    <a target=\"_blank\" href=\"https://ai.google.dev/tutorials/tuning_quickstart_rest\"><img src=\"https://www.tensorflow.org/images/download_logo_32px.png\" />下載筆記本</a>\n",
        "  </td>\n",
        "</table>\n"
      ]
    },
    {
      "cell_type": "markdown",
      "metadata": {
        "id": "Jp_CKyzxUqx6"
      },
      "source": [
        "在這個筆記本中，你將瞭解如何使用 curl 指令或 Python 請求 API 來呼叫 Gemini API，以開始使用 Gemini API 調整服務。在此，你會瞭解如何調整 Gemini API 文字生成服務背後的文字模型。\n"
      ]
    },
    {
      "cell_type": "markdown",
      "metadata": {
        "id": "sCwzzSQqsNys"
      },
      "source": [
        "**注意** ：目前僅支援 `gemini-1.0-pro-001` 模型進行微調。\n"
      ]
    },
    {
      "cell_type": "markdown",
      "metadata": {
        "id": "PSJSI1n7YNv2"
      },
      "source": [
        "## 設定\n"
      ]
    },
    {
      "cell_type": "markdown",
      "metadata": {
        "id": "SWxKvwd-MSIV"
      },
      "source": [
        "### 驗證\n"
      ]
    },
    {
      "cell_type": "markdown",
      "metadata": {
        "id": "JjS8Zy1ojIgc"
      },
      "source": [
        "Gemini API 讓你能對你自己的資料進行模型的微調。由於這關係到你的資料以及你所進行微調的模型，因此需要比 API 金鑰更嚴格的存取控制。\n",
        "\n",
        "在執行這個教學課程之前，你需要\n",
        "[為你的專案設定 OAuth](oauth_quickstart.ipynb)。\n",
        "\n",
        "\n",
        "在 Colab 中，設定的最簡單方法即複製你的 `client_secret.json` 檔案內容到 Colab 的「Secrets 管理員」中 (在左側面板的鑰匙圖示下方)，其密碼名稱為 `CLIENT_SECRET`。\n"
      ]
    },
    {
      "cell_type": "markdown",
      "metadata": {
        "id": "9NL1bBYUQ6Fs"
      },
      "source": [
        "此 gcloud 命令會將 `client_secret.json` 檔案轉換為可用于驗證服務的憑證。\n",
        "\n",
        "> 重要事項：如果你在 Colab 上執行此操作，**請勿直接按一下印出的連結** 。這將失敗。請按照說明操作，並將印出的 `gcloud` 命令複製到你的本機機器並在當地執行，然後將本機機器的輸出貼回此處。\n"
      ]
    },
    {
      "cell_type": "code",
      "execution_count": null,
      "metadata": {
        "id": "9FUwyB_MJ0-2"
      },
      "outputs": [
        {
          "name": "stdout",
          "output_type": "stream",
          "text": [
            "You are authorizing client libraries without access to a web browser. Please run the following command on a machine with a web browser and copy its output back here. Make sure the installed gcloud version is 372.0.0 or newer.\n",
            "\n",
            "gcloud auth application-default login --remote-bootstrap=\"https://accounts.google.com/o/oauth2/auth?response_type=code&client_id=87071151422-n1a3cb6c7fvkfg4gmhdtmn5ulol2l4be.apps.googleusercontent.com&scope=https%3A%2F%2Fwww.googleapis.com%2Fauth%2Fcloud-platform+https%3A%2F%2Fwww.googleapis.com%2Fauth%2Fgenerative-language.tuning&state=QIyNibWSaTIsozjmvZEkVBo6EcoW0G&access_type=offline&code_challenge=76c1ZiGvKN8cvlYfj3BmbCwE4e7tvrlwaX3REUX25gY&code_challenge_method=S256&token_usage=remote\"\n",
            "\n",
            "\n",
            "Enter the output of the above command: https://localhost:8085/?state=QIyNibWSaTIsozjmvZEkVBo6EcoW0G&code=4/0AeaYSHBKrY911S466QjKQIFODoOPXlO1mWyTYYdrbELIDV6Hw2DKRAyro62BugroSvIWsA&scope=https://www.googleapis.com/auth/cloud-platform%20https://www.googleapis.com/auth/generative-language.tuning\n",
            "\n",
            "Credentials saved to file: [/content/.config/application_default_credentials.json]\n",
            "\n",
            "These credentials will be used by any library that requests Application Default Credentials (ADC).\n"
          ]
        }
      ],
      "source": [
        "try:\n",
        "  from google.colab import userdata\n",
        "  import pathlib\n",
        "  pathlib.Path('client_secret.json').write_text(userdata.get('CLIENT_SECRET'))\n",
        "\n",
        "  # Use `--no-browser` in colab\n",
        "  !gcloud auth application-default login --no-browser --client-id-file client_secret.json --scopes='https://www.googleapis.com/auth/cloud-platform,https://www.googleapis.com/auth/generative-language.tuning'\n",
        "except ImportError:\n",
        "  !gcloud auth application-default login --client-id-file client_secret.json --scopes='https://www.googleapis.com/auth/cloud-platform,https://www.googleapis.com/auth/generative-language.tuning'"
      ]
    },
    {
      "cell_type": "markdown",
      "metadata": {
        "id": "mpe880lfchkp"
      },
      "source": [
        "## 使用 CURL 呼叫 REST API\n"
      ]
    },
    {
      "cell_type": "markdown",
      "metadata": {
        "id": "FaSmQssJaMYV"
      },
      "source": [
        "本節提供範例的 curl 陳述式以呼叫 REST API。你將學習如何建立調整工作、檢查其狀態並且一完成就發出推論呼叫。\n"
      ]
    },
    {
      "cell_type": "markdown",
      "metadata": {
        "id": "g1cQqdypn-Ga"
      },
      "source": [
        "### 設定變數\n"
      ]
    },
    {
      "cell_type": "markdown",
      "metadata": {
        "id": "jrbohImuJFGW"
      },
      "source": [
        "設定變數供重複值在後續其他 REST API 呼叫時使用。程式碼使用 Python `os` 函式庫設定環境變數，可在所有程式碼單元存取。\n",
        "\n",
        "這特定於 Colab notebook 環境。下一個程式碼單元中的程式碼等於在 bash 終端機中執行下列命令。\n",
        "\n",
        "```bash\n",
        "export access_token=$(gcloud auth application-default print-access-token)\n",
        "export project_id=my-project-id\n",
        "export base_url=https://generativelanguage.googleapis.com\n",
        "```\n"
      ]
    },
    {
      "cell_type": "code",
      "execution_count": null,
      "metadata": {
        "id": "5ZUa588km3Lx"
      },
      "outputs": [],
      "source": [
        "import os\n",
        "\n",
        "access_token = !gcloud auth application-default print-access-token\n",
        "access_token = '\\n'.join(access_token)\n",
        "\n",
        "os.environ['access_token'] = access_token\n",
        "os.environ['project_id'] = \"[Enter your project-id here]\"\n",
        "os.environ['base_url'] = \"https://generativelanguage.googleapis.com\"\n"
      ]
    },
    {
      "cell_type": "markdown",
      "metadata": {
        "id": "zKeIDL44l7Q9"
      },
      "source": [
        "### 列出已調整模型\n",
        "\n",
        "透過列出目前可用的已調整模型來驗證你的驗證設定。\n"
      ]
    },
    {
      "cell_type": "code",
      "execution_count": null,
      "metadata": {
        "id": "VAqw2D3vYWqm"
      },
      "outputs": [],
      "source": [
        "%%bash\n",
        "\n",
        "curl -X GET ${base_url}/v1beta/tunedModels \\\n",
        "    -H \"Content-Type: application/json\" \\\n",
        "    -H \"Authorization: Bearer ${access_token}\" \\\n",
        "    -H \"x-goog-user-project: ${project_id}\"\n"
      ]
    },
    {
      "cell_type": "markdown",
      "metadata": {
        "id": "t6MN52eRmyjN"
      },
      "source": [
        "### 建立調整過的模型\n",
        "\n",
        "如要建立調整過的模型，你需要在 `training_data` 欄位傳遞資料集給模型。\n",
        "\n",
        "在此例中，你將調整模型以產生序列中的下一個數字。例如，輸入為  \"1\"  時，模型應輸出  \"2\"。輸入為  \"一百\"  時，輸出應為  \"一百零一\"。\n"
      ]
    },
    {
      "cell_type": "code",
      "execution_count": null,
      "metadata": {
        "id": "iBH2NaL6myDN"
      },
      "outputs": [
        {
          "name": "stdout",
          "output_type": "stream",
          "text": [
            "{\n",
            "  \"name\": \"tunedModels/number-generator-model-dzlmi0gswwqb/operations/bvl8dymw0fhw\",\n",
            "  \"metadata\": {\n",
            "    \"@type\": \"type.googleapis.com/google.ai.generativelanguage.v1beta.CreateTunedModelMetadata\",\n",
            "    \"totalSteps\": 38,\n",
            "    \"tunedModel\": \"tunedModels/number-generator-model-dzlmi0gswwqb\"\n",
            "  }\n",
            "}\n"
          ]
        },
        {
          "name": "stderr",
          "output_type": "stream",
          "text": [
            "  % Total    % Received % Xferd  Average Speed   Time    Time     Time  Current\n",
            "                                 Dload  Upload   Total   Spent    Left  Speed\n",
            "\r  0     0    0     0    0     0      0      0 --:--:-- --:--:-- --:--:--     0\r100  2280    0   296  100  1984    611   4098 --:--:-- --:--:-- --:--:--  4720\n"
          ]
        }
      ],
      "source": [
        "%%bash\n",
        "\n",
        "curl -X POST $base_url/v1beta/tunedModels \\\n",
        "    -H 'Content-Type: application/json' \\\n",
        "    -H \"Authorization: Bearer ${access_token}\" \\\n",
        "    -H \"x-goog-user-project: ${project_id}\" \\\n",
        "    -d '\n",
        "      {\n",
        "        \"display_name\": \"number generator model\",\n",
        "        \"base_model\": \"models/gemini-1.0-pro-001\",\n",
        "        \"tuning_task\": {\n",
        "          \"hyperparameters\": {\n",
        "            \"batch_size\": 2,\n",
        "            \"learning_rate\": 0.001,\n",
        "            \"epoch_count\":5,\n",
        "          },\n",
        "          \"training_data\": {\n",
        "            \"examples\": {\n",
        "              \"examples\": [\n",
        "                {\n",
        "                    \"text_input\": \"1\",\n",
        "                    \"output\": \"2\",\n",
        "                },{\n",
        "                    \"text_input\": \"3\",\n",
        "                    \"output\": \"4\",\n",
        "                },{\n",
        "                    \"text_input\": \"-3\",\n",
        "                    \"output\": \"-2\",\n",
        "                },{\n",
        "                    \"text_input\": \"twenty two\",\n",
        "                    \"output\": \"twenty three\",\n",
        "                },{\n",
        "                    \"text_input\": \"two hundred\",\n",
        "                    \"output\": \"two hundred one\",\n",
        "                },{\n",
        "                    \"text_input\": \"ninety nine\",\n",
        "                    \"output\": \"one hundred\",\n",
        "                },{\n",
        "                    \"text_input\": \"8\",\n",
        "                    \"output\": \"9\",\n",
        "                },{\n",
        "                    \"text_input\": \"-98\",\n",
        "                    \"output\": \"-97\",\n",
        "                },{\n",
        "                    \"text_input\": \"1,000\",\n",
        "                    \"output\": \"1,001\",\n",
        "                },{\n",
        "                    \"text_input\": \"10,100,000\",\n",
        "                    \"output\": \"10,100,001\",\n",
        "                },{\n",
        "                    \"text_input\": \"thirteen\",\n",
        "                    \"output\": \"fourteen\",\n",
        "                },{\n",
        "                    \"text_input\": \"eighty\",\n",
        "                    \"output\": \"eighty one\",\n",
        "                },{\n",
        "                    \"text_input\": \"one\",\n",
        "                    \"output\": \"two\",\n",
        "                },{\n",
        "                    \"text_input\": \"three\",\n",
        "                    \"output\": \"four\",\n",
        "                },{\n",
        "                    \"text_input\": \"seven\",\n",
        "                    \"output\": \"eight\",\n",
        "                }\n",
        "              ]\n",
        "            }\n",
        "          }\n",
        "        }\n",
        "      }' | tee tunemodel.json\n"
      ]
    },
    {
      "cell_type": "markdown",
      "metadata": {
        "id": "Ad5ZWb_rmAst"
      },
      "source": [
        "### 取得已調整的模型狀態\n"
      ]
    },
    {
      "cell_type": "markdown",
      "metadata": {
        "id": "4hre6xAdrRyS"
      },
      "source": [
        "在訓練期間，模型狀態設定為 `CREATING`，一旦完成將變更為 `ACTIVE`。\n",
        "\n",
        "以下是少量的 python 程式碼，用於從回應 JSON 中分析產生的模型名稱。如果你在終端機執行這項工作，你可以嘗試使用 bash JSON parser 來分析回應。\n"
      ]
    },
    {
      "cell_type": "code",
      "execution_count": null,
      "metadata": {
        "id": "BVs6r1j2YIuv"
      },
      "outputs": [
        {
          "name": "stdout",
          "output_type": "stream",
          "text": [
            "tunedModels/number-generator-model-dzlmi0gswwqb\n"
          ]
        }
      ],
      "source": [
        "import json\n",
        "\n",
        "first_page = json.load(open('tunemodel.json'))\n",
        "os.environ['modelname'] = first_page['metadata']['tunedModel']\n",
        "\n",
        "print(os.environ['modelname'])\n"
      ]
    },
    {
      "cell_type": "markdown",
      "metadata": {
        "id": "I1urOyFnd7_N"
      },
      "source": [
        "使用模型名稱執行另一個 `GET` 要求以取得模型中繼資料，其中包含狀態欄位。\n"
      ]
    },
    {
      "cell_type": "code",
      "execution_count": null,
      "metadata": {
        "id": "6MdwY7duYmYL"
      },
      "outputs": [
        {
          "name": "stdout",
          "output_type": "stream",
          "text": [
            "  \"state\": \"ACTIVE\",\n"
          ]
        },
        {
          "name": "stderr",
          "output_type": "stream",
          "text": [
            "  % Total    % Received % Xferd  Average Speed   Time    Time     Time  Current\n",
            "                                 Dload  Upload   Total   Spent    Left  Speed\n",
            "\r  0     0    0     0    0     0      0      0 --:--:-- --:--:-- --:--:--     0\r  0     0    0     0    0     0      0      0 --:--:-- --:--:-- --:--:--     0\r100  5921    0  5921    0     0  13164      0 --:--:-- --:--:-- --:--:-- 13157\n"
          ]
        }
      ],
      "source": [
        "%%bash\n",
        "\n",
        "curl -X GET ${base_url}/v1beta/${modelname} \\\n",
        "    -H 'Content-Type: application/json' \\\n",
        "    -H \"Authorization: Bearer ${access_token}\" \\\n",
        "    -H \"x-goog-user-project: ${project_id}\" | grep state\n"
      ]
    },
    {
      "cell_type": "markdown",
      "metadata": {
        "id": "Qg8_cgelayQ5"
      },
      "source": [
        "### 執行推論\n",
        "\n",
        "在調整工作完成後，你可以使用文字服務產生文字。請嘗試輸入一個羅馬數字，例如 63 (LXIII)\n"
      ]
    },
    {
      "cell_type": "code",
      "execution_count": null,
      "metadata": {
        "id": "15ndxGP_cNBp"
      },
      "outputs": [
        {
          "name": "stdout",
          "output_type": "stream",
          "text": [
            "{\n",
            "  \"candidates\": [\n",
            "    {\n",
            "      \"content\": {\n",
            "        \"parts\": [\n",
            "          {\n",
            "            \"text\": \"LXIV\"\n",
            "          }\n",
            "        ],\n",
            "        \"role\": \"model\"\n",
            "      },\n",
            "      \"finishReason\": \"STOP\",\n",
            "      \"index\": 0,\n",
            "      \"safetyRatings\": [\n",
            "        {\n",
            "          \"category\": \"HARM_CATEGORY_SEXUALLY_EXPLICIT\",\n",
            "          \"probability\": \"NEGLIGIBLE\"\n",
            "        },\n",
            "        {\n",
            "          \"category\": \"HARM_CATEGORY_HATE_SPEECH\",\n",
            "          \"probability\": \"NEGLIGIBLE\"\n",
            "        },\n",
            "        {\n",
            "          \"category\": \"HARM_CATEGORY_HARASSMENT\",\n",
            "          \"probability\": \"NEGLIGIBLE\"\n",
            "        },\n",
            "        {\n",
            "          \"category\": \"HARM_CATEGORY_DANGEROUS_CONTENT\",\n",
            "          \"probability\": \"NEGLIGIBLE\"\n",
            "        }\n",
            "      ]\n",
            "    }\n",
            "  ],\n",
            "  \"promptFeedback\": {\n",
            "    \"safetyRatings\": [\n",
            "      {\n",
            "        \"category\": \"HARM_CATEGORY_SEXUALLY_EXPLICIT\",\n",
            "        \"probability\": \"NEGLIGIBLE\"\n",
            "      },\n",
            "      {\n",
            "        \"category\": \"HARM_CATEGORY_HATE_SPEECH\",\n",
            "        \"probability\": \"NEGLIGIBLE\"\n",
            "      },\n",
            "      {\n",
            "        \"category\": \"HARM_CATEGORY_HARASSMENT\",\n",
            "        \"probability\": \"NEGLIGIBLE\"\n",
            "      },\n",
            "      {\n",
            "        \"category\": \"HARM_CATEGORY_DANGEROUS_CONTENT\",\n",
            "        \"probability\": \"NEGLIGIBLE\"\n",
            "      }\n",
            "    ]\n",
            "  }\n",
            "}\n"
          ]
        }
      ],
      "source": [
        "%%bash\n",
        "\n",
        "curl -X POST $base_url/v1beta/$modelname:generateContent \\\n",
        "    -H 'Content-Type: application/json' \\\n",
        "    -H \"Authorization: Bearer ${access_token}\" \\\n",
        "    -H \"x-goog-user-project: ${project_id}\" \\\n",
        "    -d '{\n",
        "        \"contents\": [{\n",
        "        \"parts\": [{\n",
        "          \"text\": \"LXIII\"\n",
        "          }]\n",
        "        }]\n",
        "        }' 2> /dev/null"
      ]
    },
    {
      "cell_type": "markdown",
      "metadata": {
        "id": "r2zvbGFYeR18"
      },
      "source": [
        "模型的輸出可能正確或不正確。如果調校過的模型未達到你的要求標準，你可以嘗試新增更多高品質範例、調整超參數或為你的範例新增前導文字。你甚至可以根據你建立的第一個範例建立另一個調校過後的模型。\n",
        "\n",
        "請參閱 [調校指南](../guide/model_tuning_guidance) 以取得更多提高效能的指南。\n"
      ]
    },
    {
      "cell_type": "markdown",
      "metadata": {
        "id": "fHWwC2dqXYUb"
      },
      "source": [
        "## 使用 Python requests 呼叫 REST API\n",
        "\n",
        "你可以使用允許你傳送 http 要求的任何函式庫呼叫 rest API。\n",
        "下一組範例使用 Python requests 函式庫，並展示更進階功能。\n"
      ]
    },
    {
      "cell_type": "markdown",
      "metadata": {
        "id": "jZ0jOtfwaxU9"
      },
      "source": [
        "### 設定變數\n"
      ]
    },
    {
      "cell_type": "code",
      "execution_count": null,
      "metadata": {
        "id": "a_QXMiSlav_F"
      },
      "outputs": [],
      "source": [
        "access_token = !gcloud auth application-default print-access-token\n",
        "access_token = '\\n'.join(access_token)\n",
        "\n",
        "project = '[Enter your project-id here]'\n",
        "base_url = \"https://generativelanguage.googleapis.com\"\n"
      ]
    },
    {
      "cell_type": "markdown",
      "metadata": {
        "id": "ZWjmINASa-Tg"
      },
      "source": [
        "匯入`requests`函式庫。\n"
      ]
    },
    {
      "cell_type": "code",
      "execution_count": null,
      "metadata": {
        "id": "QyjlnDjhYWoe"
      },
      "outputs": [],
      "source": [
        "import requests\n",
        "import json"
      ]
    },
    {
      "cell_type": "markdown",
      "metadata": {
        "id": "CPtF6TiUhRr2"
      },
      "source": [
        "### 列出已調整模型\n",
        "\n",
        "透過列出目前可用的已調整模型來驗證你的驗證設定。\n"
      ]
    },
    {
      "cell_type": "code",
      "execution_count": null,
      "metadata": {
        "id": "r44T32P8ZiH4"
      },
      "outputs": [],
      "source": [
        "headers={\n",
        "  'Authorization': 'Bearer ' + access_token,\n",
        "  'Content-Type': 'application/json',\n",
        "  'x-goog-user-project': project\n",
        "}\n",
        "\n",
        "result = requests.get(\n",
        "  url=f'{base_url}/v1beta/tunedModels',\n",
        "  headers = headers,\n",
        ")"
      ]
    },
    {
      "cell_type": "code",
      "execution_count": null,
      "metadata": {
        "id": "rC8lDO8uh1PY"
      },
      "outputs": [],
      "source": [
        "result.json()"
      ]
    },
    {
      "cell_type": "markdown",
      "metadata": {
        "id": "Ht_JVuo7hU8n"
      },
      "source": [
        "### 建立調整過的模型\n"
      ]
    },
    {
      "cell_type": "markdown",
      "metadata": {
        "id": "B4KrCiYITzXy"
      },
      "source": [
        "與 Curl 範例相同，你透過 `training_data` 欄位傳入資料集。\n"
      ]
    },
    {
      "cell_type": "code",
      "execution_count": null,
      "metadata": {
        "id": "hh4gcz6aaDzA"
      },
      "outputs": [],
      "source": [
        "operation = requests.post(\n",
        "    url = f'{base_url}/v1beta/tunedModels',\n",
        "    headers=headers,\n",
        "    json= {\n",
        "        \"display_name\": \"number generator\",\n",
        "        \"base_model\": \"models/gemini-1.0-pro-001\",\n",
        "        \"tuning_task\": {\n",
        "          \"hyperparameters\": {\n",
        "            \"batch_size\": 4,\n",
        "            \"learning_rate\": 0.001,\n",
        "            \"epoch_count\":5,\n",
        "          },\n",
        "          \"training_data\": {\n",
        "            \"examples\": {\n",
        "              \"examples\": [\n",
        "                {\n",
        "                    'text_input': '1',\n",
        "                    'output': '2',\n",
        "                },{\n",
        "                    'text_input': '3',\n",
        "                    'output': '4',\n",
        "                },{\n",
        "                    'text_input': '-3',\n",
        "                    'output': '-2',\n",
        "                },{\n",
        "                    'text_input': 'twenty two',\n",
        "                    'output': 'twenty three',\n",
        "                },{\n",
        "                    'text_input': 'two hundred',\n",
        "                    'output': 'two hundred one',\n",
        "                },{\n",
        "                    'text_input': 'ninety nine',\n",
        "                    'output': 'one hundred',\n",
        "                },{\n",
        "                    'text_input': '8',\n",
        "                    'output': '9',\n",
        "                },{\n",
        "                    'text_input': '-98',\n",
        "                    'output': '-97',\n",
        "                },{\n",
        "                    'text_input': '1,000',\n",
        "                    'output': '1,001',\n",
        "                },{\n",
        "                    'text_input': '10,100,000',\n",
        "                    'output': '10,100,001',\n",
        "                },{\n",
        "                    'text_input': 'thirteen',\n",
        "                    'output': 'fourteen',\n",
        "                },{\n",
        "                    'text_input': 'eighty',\n",
        "                    'output': 'eighty one',\n",
        "                },{\n",
        "                    'text_input': 'one',\n",
        "                    'output': 'two',\n",
        "                },{\n",
        "                    'text_input': 'three',\n",
        "                    'output': 'four',\n",
        "                },{\n",
        "                    'text_input': 'seven',\n",
        "                    'output': 'eight',\n",
        "                }\n",
        "              ]\n",
        "            }\n",
        "          }\n",
        "        }\n",
        "      }\n",
        ")"
      ]
    },
    {
      "cell_type": "code",
      "execution_count": null,
      "metadata": {
        "id": "6cMp2okEnIKR"
      },
      "outputs": [
        {
          "data": {
            "text/plain": [
              "<Response [200]>"
            ]
          },
          "execution_count": 171,
          "metadata": {},
          "output_type": "execute_result"
        }
      ],
      "source": [
        "operation"
      ]
    },
    {
      "cell_type": "code",
      "execution_count": null,
      "metadata": {
        "id": "L-scSZQ7aoqG"
      },
      "outputs": [
        {
          "data": {
            "text/plain": [
              "{'name': 'tunedModels/number-generator-wl1qr34x2py/operations/41vni3zk0a47',\n",
              " 'metadata': {'@type': 'type.googleapis.com/google.ai.generativelanguage.v1beta.CreateTunedModelMetadata',\n",
              "  'totalSteps': 19,\n",
              "  'tunedModel': 'tunedModels/number-generator-wl1qr34x2py'}}"
            ]
          },
          "execution_count": 172,
          "metadata": {},
          "output_type": "execute_result"
        }
      ],
      "source": [
        "operation.json()"
      ]
    },
    {
      "cell_type": "markdown",
      "metadata": {
        "id": "2ymEe60etcsu"
      },
      "source": [
        "設定一個變數，其名稱為已調整模型，用於其餘呼叫。\n"
      ]
    },
    {
      "cell_type": "code",
      "execution_count": null,
      "metadata": {
        "id": "iGyc1yWOCRMz"
      },
      "outputs": [
        {
          "data": {
            "application/vnd.google.colaboratory.intrinsic+json": {
              "type": "string"
            },
            "text/plain": [
              "'tunedModels/number-generator-wl1qr34x2py'"
            ]
          },
          "execution_count": 173,
          "metadata": {},
          "output_type": "execute_result"
        }
      ],
      "source": [
        "name=operation.json()[\"metadata\"][\"tunedModel\"]\n",
        "name\n"
      ]
    },
    {
      "cell_type": "markdown",
      "metadata": {
        "id": "xq1vdaK4hZEI"
      },
      "source": [
        "### 取得已調整的模型狀態\n"
      ]
    },
    {
      "cell_type": "markdown",
      "metadata": {
        "id": "xO0Ms0K5hcWM"
      },
      "source": [
        "你可以透過檢查狀態欄位，來了解調整工作進度。`CREATING` 表示調整工作仍在進行中，而 `ACTIVE` 表示訓練完成，而且經過調整的模型已準備好使用。\n"
      ]
    },
    {
      "cell_type": "code",
      "execution_count": null,
      "metadata": {
        "id": "Ms6u3X7vel12"
      },
      "outputs": [],
      "source": [
        "tuned_model = requests.get(\n",
        "    url = f'{base_url}/v1beta/{name}',\n",
        "    headers=headers,\n",
        ")"
      ]
    },
    {
      "cell_type": "code",
      "execution_count": null,
      "metadata": {
        "id": "ohfKsMlYfH7m"
      },
      "outputs": [],
      "source": [
        "tuned_model.json()"
      ]
    },
    {
      "cell_type": "markdown",
      "metadata": {
        "id": "WEbNjFRKaFbX"
      },
      "source": [
        "以下程式碼每 5 秒檢查一次狀態欄位，直到它不再處於 `CREATING` 狀態。\n"
      ]
    },
    {
      "cell_type": "code",
      "execution_count": null,
      "metadata": {
        "id": "Oleh5athmo-4"
      },
      "outputs": [
        {
          "name": "stdout",
          "output_type": "stream",
          "text": [
            "100.00% - {'step': 19, 'epoch': 5, 'meanLoss': 1.402067, 'computeTime': '2024-03-14T15:11:23.766989274Z'}\n",
            "\n"
          ]
        }
      ],
      "source": [
        "import time\n",
        "import pprint\n",
        "\n",
        "op_json = operation.json()\n",
        "response = op_json.get('response')\n",
        "error = op_json.get('error')\n",
        "\n",
        "while response is None and error is None:\n",
        "    time.sleep(5)\n",
        "\n",
        "    operation = requests.get(\n",
        "        url = f'{base_url}/v1/{op_json[\"name\"]}',\n",
        "        headers=headers,\n",
        "    )\n",
        "\n",
        "    op_json = operation.json()\n",
        "    response = op_json.get('response')\n",
        "    error = op_json.get('error')\n",
        "\n",
        "    percent = op_json['metadata'].get('completedPercent')\n",
        "    if percent is not None:\n",
        "      print(f\"{percent:.2f}% - {op_json['metadata']['snapshots'][-1]}\")\n",
        "      print()\n",
        "\n",
        "if error is not None:\n",
        "    raise Exception(error)"
      ]
    },
    {
      "cell_type": "markdown",
      "metadata": {
        "id": "sQRt4u1hIZ9a"
      },
      "source": [
        "### 執行推斷\n",
        "\n",
        "一旦調校作業完成，使用它來產生文字的方式與使用基礎文字模型的方式相同。嘗試輸入一個日文數字，例如，6 (六)。\n"
      ]
    },
    {
      "cell_type": "code",
      "execution_count": null,
      "metadata": {
        "id": "ZVVrt-yiIZ9h"
      },
      "outputs": [],
      "source": [
        "import time\n",
        "\n",
        "m = requests.post(\n",
        "    url = f'{base_url}/v1beta/{name}:generateContent',\n",
        "    headers=headers,\n",
        "    json= {\n",
        "         \"contents\": [{\n",
        "             \"parts\": [{\n",
        "                 \"text\": \"六\"\n",
        "             }]\n",
        "          }]\n",
        "    })"
      ]
    },
    {
      "cell_type": "code",
      "execution_count": null,
      "metadata": {
        "id": "i-cFTviPIZ9h"
      },
      "outputs": [
        {
          "name": "stdout",
          "output_type": "stream",
          "text": [
            "{'candidates': [{'content': {'parts': [{'text': '七'}], 'role': 'model'},\n",
            "                 'finishReason': 'STOP',\n",
            "                 'index': 0,\n",
            "                 'safetyRatings': [{'category': 'HARM_CATEGORY_SEXUALLY_EXPLICIT',\n",
            "                                    'probability': 'NEGLIGIBLE'},\n",
            "                                   {'category': 'HARM_CATEGORY_HATE_SPEECH',\n",
            "                                    'probability': 'NEGLIGIBLE'},\n",
            "                                   {'category': 'HARM_CATEGORY_HARASSMENT',\n",
            "                                    'probability': 'LOW'},\n",
            "                                   {'category': 'HARM_CATEGORY_DANGEROUS_CONTENT',\n",
            "                                    'probability': 'NEGLIGIBLE'}]}],\n",
            " 'promptFeedback': {'safetyRatings': [{'category': 'HARM_CATEGORY_SEXUALLY_EXPLICIT',\n",
            "                                       'probability': 'NEGLIGIBLE'},\n",
            "                                      {'category': 'HARM_CATEGORY_HATE_SPEECH',\n",
            "                                       'probability': 'NEGLIGIBLE'},\n",
            "                                      {'category': 'HARM_CATEGORY_HARASSMENT',\n",
            "                                       'probability': 'NEGLIGIBLE'},\n",
            "                                      {'category': 'HARM_CATEGORY_DANGEROUS_CONTENT',\n",
            "                                       'probability': 'NEGLIGIBLE'}]}}\n"
          ]
        }
      ],
      "source": [
        "import pprint\n",
        "pprint.pprint(m.json())"
      ]
    },
    {
      "cell_type": "markdown",
      "metadata": {
        "id": "kI6PAEx4fN_M"
      },
      "source": [
        "你模型的輸出是否正確尚不明確。如果調整後的模型未達到你的所需標準，你可以嘗試添加更多高品質範例、調整超參數或為範例添加前置頁。\n"
      ]
    },
    {
      "cell_type": "markdown",
      "metadata": {
        "id": "Udu9f8CasVHe"
      },
      "source": [
        "## 結論\n",
        "\n",
        "即使訓練資料沒有包含任何羅馬或日語數字的參考，模型在微調後能夠良好地進行泛化。這麼一來，你就可以微調模型來滿足你的使用案例。\n"
      ]
    },
    {
      "cell_type": "markdown",
      "metadata": {
        "id": "yRDAbJdYBXuj"
      },
      "source": [
        "##後續步驟\n",
        "\n",
        "如要瞭解如何利用 Gemini API 的 Python SDK 使用調整服務，請前往[使用 Python 的調整快速入門](https://ai.google.dev/tutorials/tuning_quickstart_python)。如要瞭解如何使用 Gemini API 的其他服務，請前往[Python 快速入門](https://ai.google.dev/tutorials/python_quickstart)。\n"
      ]
    }
  ],
  "metadata": {
    "colab": {
      "name": "tuning_quickstart_rest.ipynb",
      "toc_visible": true
    },
    "kernelspec": {
      "display_name": "Python 3",
      "name": "python3"
    }
  },
  "nbformat": 4,
  "nbformat_minor": 0
}