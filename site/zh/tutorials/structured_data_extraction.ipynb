{
  "cells": [
    {
      "cell_type": "markdown",
      "metadata": {
        "id": "8968a502d25e"
      },
      "source": [
        "##### 版權 2024 Google LLC.\n"
      ]
    },
    {
      "cell_type": "code",
      "execution_count": 3,
      "metadata": {
        "cellView": "form",
        "id": "906e07f6e562"
      },
      "outputs": [],
      "source": [
        "#@title Licensed under the Apache License, Version 2.0 (the \"License\");\n",
        "# you may not use this file except in compliance with the License.\n",
        "# You may obtain a copy of the License at\n",
        "#\n",
        "# https://www.apache.org/licenses/LICENSE-2.0\n",
        "#\n",
        "# Unless required by applicable law or agreed to in writing, software\n",
        "# distributed under the License is distributed on an \"AS IS\" BASIS,\n",
        "# WITHOUT WARRANTIES OR CONDITIONS OF ANY KIND, either express or implied.\n",
        "# See the License for the specific language governing permissions and\n",
        "# limitations under the License."
      ]
    },
    {
      "cell_type": "markdown",
      "metadata": {
        "id": "NtX45QCEdPaP"
      },
      "source": [
        "# 使用函式呼叫進行結構化數據提取\n"
      ]
    },
    {
      "cell_type": "markdown",
      "metadata": {
        "id": "2tO4fP7FFg2V"
      },
      "source": [
        "<table class=\"tfo-notebook-buttons\" align=\"left\">\n",
        "  <td>\n",
        "    <a target=\"_blank\" href=\"https://ai.google.dev/tutorials/structured_data_extraction\"><img src=\"https://ai.google.dev/static/site-assets/images/docs/notebook-site-button.png\" height=\"32\" width=\"32\" />在 Google AI 上查看</a>\n",
        "  </td>\n",
        "  <td>\n",
        "    <a target=\"_blank\" href=\"https://colab.research.google.com/github/doggy8088/generative-ai-docs/blob/main/site/zh/tutorials/structured_data_extraction.ipynb\"><img src=\"https://www.tensorflow.org/images/colab_logo_32px.png\" />在 Google Colab 中執行</a>\n",
        "  </td>\n",
        "  <td>\n",
        "    <a target=\"_blank\" href=\"https://github.com/doggy8088/generative-ai-docs/blob/main/site/zh/tutorials/structured_data_extraction.ipynb\"><img src=\"https://www.tensorflow.org/images/GitHub-Mark-32px.png\" />在 GitHub 上查看原始碼</a>\n",
        "  </td>\n",
        "</table>\n"
      ]
    },
    {
      "cell_type": "markdown",
      "metadata": {
        "id": "8Szkddw5NScW"
      },
      "source": [
        "在這個教學中，你會使用 Gemini API 從故事中提取一個結構化資料的範例，包括角色、關係、事情和地點的清單。\n"
      ]
    },
    {
      "cell_type": "markdown",
      "metadata": {
        "id": "bvrwRlNPdYDr"
      },
      "source": [
        "## 設定\n"
      ]
    },
    {
      "cell_type": "code",
      "execution_count": 10,
      "metadata": {
        "id": "QyW6x11UQHnx"
      },
      "outputs": [
        {
          "name": "stdout",
          "output_type": "stream",
          "text": [
            "\u001b[33mWARNING: There was an error checking the latest version of pip.\u001b[0m\u001b[33m\n",
            "\u001b[0m"
          ]
        }
      ],
      "source": [
        "!pip install -U -q google-generativeai"
      ]
    },
    {
      "cell_type": "code",
      "execution_count": 11,
      "metadata": {
        "id": "TS9l5igubpHO"
      },
      "outputs": [],
      "source": [
        "import pathlib\n",
        "import textwrap\n",
        "\n",
        "import google.generativeai as genai\n",
        "import google.ai.generativelanguage as glm\n",
        "\n",
        "\n",
        "from IPython.display import display\n",
        "from IPython.display import Markdown\n",
        "\n",
        "from google.api_core import retry\n",
        "\n",
        "def to_markdown(text):\n",
        "  text = text.replace('•', '  *')\n",
        "  return Markdown(textwrap.indent(text, '> ', predicate=lambda _: True))"
      ]
    },
    {
      "cell_type": "markdown",
      "metadata": {
        "id": "VmSlTHXxb5pV"
      },
      "source": [
        "一旦你取得了 API 金鑰，請將其傳遞到 SDK。你可以用兩種方式進行此事：\n",
        "\n",
        "* 將金鑰放入 `GOOGLE_API_KEY` 環境變數中 (SDK 會自動從中撷取)。\n",
        "* 將金鑰傳遞到 `genai.configure(api_key=...)`\n"
      ]
    },
    {
      "cell_type": "code",
      "execution_count": null,
      "metadata": {
        "id": "ab9ASynfcIZn"
      },
      "outputs": [],
      "source": [
        "try:\n",
        "    # Used to securely store your API key\n",
        "    from google.colab import userdata\n",
        "\n",
        "    # Or use `os.getenv('API_KEY')` to fetch an environment variable.\n",
        "    GOOGLE_API_KEY=userdata.get('GOOGLE_API_KEY')\n",
        "except ImportError:\n",
        "    import os\n",
        "    GOOGLE_API_KEY = os.environ['GOOGLE_API_KEY']\n",
        "\n",
        "genai.configure(api_key=GOOGLE_API_KEY)\n",
        "\n",
        "genai.configure(\n",
        "  api_key=GOOGLE_API_KEY,\n",
        "  client_options={'api_endpoint':'autopush-generativelanguage.sandbox.googleapis.com'})"
      ]
    },
    {
      "cell_type": "markdown",
      "metadata": {
        "id": "K6SdtoJCL4pL"
      },
      "source": [
        "## 範例任務\n",
        "\n",
        "對於這個教學課程，你會從自然語言故事中萃取實體。舉例來說，下面是一個由 Gemini 所寫的故事。\n"
      ]
    },
    {
      "cell_type": "code",
      "execution_count": 6,
      "metadata": {
        "id": "0THz95wOL4pL"
      },
      "outputs": [],
      "source": [
        "new_story = False\n",
        "\n",
        "if new_story:\n",
        "  model = genai.GenerativeModel(model_name='gemini-1.0-pro')\n",
        "\n",
        "  response = model.generate_content(\"\"\"\n",
        "      Write a long story about a girl with magic backpack, her family, and at\n",
        "      least one other charater. Make sure everyone has names. Don't forget to\n",
        "      describe the contents of the backpack, and where everyone and everything\n",
        "      starts and ends up.\"\"\", request_options={'retry': retry.Retry()})\n",
        "  story = response.text\n",
        "  print(response.candidates[0].citation_metadata)\n",
        "else:\n",
        "  story = \"\"\"In the quaint town of Willow Creek, nestled amidst rolling hills and whispering willows, resided a young girl named Anya. As she stepped out of the creaky wooden door of her modest cottage, her heart skipped a beat with excitement and anticipation. Today was her first day of school, and she couldn't wait to show off her prized possession - a magical backpack.\\n\\nHanded down to her from her grandmother, the backpack was no ordinary satchel. Its soft, emerald-green fabric shimmered with an ethereal glow, and its leather straps held secrets that only Anya knew. Within its capacious interior lay an enchanted world, filled with wonders that would ignite her imagination and change her life forever.\\n\\nAnya's parents, kind-hearted Elise and wise-bearded Edward, bid her farewell with warm embraces. \"Remember, my dear,\" whispered her mother, \"use your magic wisely and for good.\" Her father added, \"Always seek knowledge, and let the backpack be your trusted companion.\"\\n\\nWith a skip in her step, Anya set off towards the town's only schoolhouse. On her way, she passed her best friend, Samuel, a curious and adventurous boy with a mischievous grin. \"Hey, Anya,\" he called out. \"Can I see your backpack?\"\\n\\nAnya hesitated for a moment before unzipping the flap and revealing its contents. Samuel's eyes widened in amazement as he peered inside. There, nestled amidst pencils and notebooks, were a shimmering sword, a book of ancient spells, a tiny compass that always pointed north, and a magical key that could open any lock.\\n\\nTogether, they marveled at the backpack's wonders, promising to keep its secrets safe. As they approached the schoolhouse, Anya noticed a group of older children huddled together, their faces etched with fear. Curiosity getting the better of her, she cautiously approached.\\n\\n\"What's wrong?\" she asked.\\n\\nA tall, lanky boy stepped forward. \"There's a monster in the forest,\" he stammered. \"It's been terrorizing the town, attacking animals and even people.\"\\n\\nAnya's heart sank. The town of Willow Creek was small and peaceful, and the thought of a monster brought a shiver down her spine. She knew she had to do something to protect her family and friends.\\n\\nWithout a moment's hesitation, Anya opened her backpack and retrieved the shimmering sword. With a determined gleam in her eye, she turned to her terrified peers. \"Don't worry,\" she said, her voice steady. \"I'll take care of it.\"\\n\\nWith Samuel close behind her, Anya ventured into the shadowy depths of the forest. The trees seemed to whisper secrets as she passed, and the undergrowth rustled with unseen creatures. As they walked deeper into the forest, the air grew heavy and the ground beneath their feet trembled.\\n\\nSuddenly, they came to a clearing, and there before their eyes was the monster - a massive beast with sharp teeth, glowing red eyes, and claws that could crush a human with ease. The creature roared, a thunderous sound that shook the forest to its core.\\n\\nFear surged through Anya, but she refused to let it consume her. She drew the sword from its sheath and charged towards the monster. The blade shimmered in the sunlight, and as it struck the beast's hide, a blinding light erupted, enveloping everything in its radiance.\\n\\nWhen the light faded, the monster was gone, and in its place was a pile of shattered crystals. Anya had defeated the creature with the magic of her backpack, proving that even the smallest of objects could hold the greatest of powers.\\n\\nAs she and Samuel returned to the town, they were greeted as heroes. The people of Willow Creek rejoiced, and the legend of Anya, the girl with the magic backpack, was passed down through generations. And so, Anya continued her adventures, using the backpack's wonders to make the world a better place, one magical step at a time.\"\"\""
      ]
    },
    {
      "cell_type": "code",
      "execution_count": 9,
      "metadata": {
        "id": "yMnxJqubg759"
      },
      "outputs": [
        {
          "data": {
            "text/markdown": [
              "> In the quaint town of Willow Creek, nestled amidst rolling hills and whispering willows, resided a young girl named Anya. As she stepped out of the creaky wooden door of her modest cottage, her heart skipped a beat with excitement and anticipation. Today was her first day of school, and she couldn't wait to show off her prized possession - a magical backpack.\n",
              "> \n",
              "> Handed down to her from her grandmother, the backpack was no ordinary satchel. Its soft, emerald-green fabric shimmered with an ethereal glow, and its leather straps held secrets that only Anya knew. Within its capacious interior lay an enchanted world, filled with wonders that would ignite her imagination and change her life forever.\n",
              "> \n",
              "> Anya's parents, kind-hearted Elise and wise-bearded Edward, bid her farewell with warm embraces. \"Remember, my dear,\" whispered her mother, \"use your magic wisely and for good.\" Her father added, \"Always seek knowledge, and let the backpack be your trusted companion.\"\n",
              "> \n",
              "> With a skip in her step, Anya set off towards the town's only schoolhouse. On her way, she passed her best friend, Samuel, a curious and adventurous boy with a mischievous grin. \"Hey, Anya,\" he called out. \"Can I see your backpack?\"\n",
              "> \n",
              "> Anya hesitated for a moment before unzipping the flap and revealing its contents. Samuel's eyes widened in amazement as he peered inside. There, nestled amidst pencils and notebooks, were a shimmering sword, a book of ancient spells, a tiny compass that always pointed north, and a magical key that could open any lock.\n",
              "> \n",
              "> Together, they marveled at the backpack's wonders, promising to keep its secrets safe. As they approached the schoolhouse, Anya noticed a group of older children huddled together, their faces etched with fear. Curiosity getting the better of her, she cautiously approached.\n",
              "> \n",
              "> \"What's wrong?\" she asked.\n",
              "> \n",
              "> A tall, lanky boy stepped forward. \"There's a monster in the forest,\" he stammered. \"It's been terrorizing the town, attacking animals and even people.\"\n",
              "> \n",
              "> Anya's heart sank. The town of Willow Creek was small and peaceful, and the thought of a monster brought a shiver down her spine. She knew she had to do something to protect her family and friends.\n",
              "> \n",
              "> Without a moment's hesitation, Anya opened her backpack and retrieved the shimmering sword. With a determined gleam in her eye, she turned to her terrified peers. \"Don't worry,\" she said, her voice steady. \"I'll take care of it.\"\n",
              "> \n",
              "> With Samuel close behind her, Anya ventured into the shadowy depths of the forest. The trees seemed to whisper secrets as she passed, and the undergrowth rustled with unseen creatures. As they walked deeper into the forest, the air grew heavy and the ground beneath their feet trembled.\n",
              "> \n",
              "> Suddenly, they came to a clearing, and there before their eyes was the monster - a massive beast with sharp teeth, glowing red eyes, and claws that could crush a human with ease. The creature roared, a thunderous sound that shook the forest to its core.\n",
              "> \n",
              "> Fear surged through Anya, but she refused to let it consume her. She drew the sword from its sheath and charged towards the monster. The blade shimmered in the sunlight, and as it struck the beast's hide, a blinding light erupted, enveloping everything in its radiance.\n",
              "> \n",
              "> When the light faded, the monster was gone, and in its place was a pile of shattered crystals. Anya had defeated the creature with the magic of her backpack, proving that even the smallest of objects could hold the greatest of powers.\n",
              "> \n",
              "> As she and Samuel returned to the town, they were greeted as heroes. The people of Willow Creek rejoiced, and the legend of Anya, the girl with the magic backpack, was passed down through generations. And so, Anya continued her adventures, using the backpack's wonders to make the world a better place, one magical step at a time."
            ],
            "text/plain": [
              "<IPython.core.display.Markdown object>"
            ]
          },
          "execution_count": 9,
          "metadata": {},
          "output_type": "execute_result"
        }
      ],
      "source": [
        "to_markdown(story)"
      ]
    },
    {
      "cell_type": "markdown",
      "metadata": {
        "id": "zldoIzn-MuLE"
      },
      "source": [
        "## 使用自然語言\n",
        "\n",
        "大語言模型是一種強大的多任務工具。通常只要告訴 Gemini 你想要什麼，它就能順利進行。\n",
        "\n",
        "Gemini API 沒有 JSON 模式，因此透過這種方式產生資料結構時，有幾件事需要注意：\n",
        "\n",
        "- 有時解析會失敗。\n",
        "- 無法嚴格強制執行架構。\n",
        "\n",
        "你將在下一節中解決這些問題。首先，使用純文字寫出的架構來試試一個簡單的自然語言提示。這尚未最佳化：\n"
      ]
    },
    {
      "cell_type": "code",
      "execution_count": null,
      "metadata": {
        "id": "eStTMD6VL4pM"
      },
      "outputs": [],
      "source": [
        "model = model = model = genai.GenerativeModel(\n",
        "    model_name='gemini-1.0-pro')\n",
        "\n",
        "response = model.generate_content(textwrap.dedent(\"\"\"\\\n",
        "    Please return JSON describing the the people, places, things and relationships from this story using the following schema:\n",
        "\n",
        "    {\"people\": list[PERSON], \"places\":list[PLACE], \"things\":list[THING], \"relationships\": list[RELATIONSHIP]}\n",
        "\n",
        "    PERSON = {\"name\": str, \"description\": str, \"start_place_name\": str, \"end_place_name\": str}\n",
        "    PLACE = {\"name\": str, \"description\": str}\n",
        "    THING = {\"name\": str, \"description\": str, \"start_place_name\": str, \"end_place_name\": str}\n",
        "    RELATIONSHIP = {\"person_1_name\": str, \"person_2_name\": str, \"relationship\": str}\n",
        "\n",
        "    All fields are required.\n",
        "\n",
        "    Important: Only return a single piece of valid JSON text.\n",
        "\n",
        "    Here is the story:\n",
        "\n",
        "    \"\"\") + story)\n"
      ]
    },
    {
      "cell_type": "code",
      "execution_count": null,
      "metadata": {
        "id": "B0b5zHI3uEBm"
      },
      "outputs": [
        {
          "data": {
            "application/vnd.google.colaboratory.intrinsic+json": {
              "type": "string"
            },
            "text/plain": [
              "'{\"people\": [{\"name\": \"Anya\", \"description\": \"A young girl who possesses a magical backpack.\", \"start_place_name\": \"Willow Creek\", \"end_place_name\": null}, {\"name\": \"Elise\", \"description\": \"Anya\\'s kind-hearted mother.\", \"start_place_name\": \"Willow Creek\", \"end_place_name\": null}, {\"name\": \"Edward\", \"description\": \"Anya\\'s wise-bearded father.\", \"start_place_name\": \"Willow Creek\", \"end_place_name\": null}, {\"name\": \"Samuel\", \"description\": \"Anya\\'s curious and adventurous best friend.\", \"start_place_name\": \"Willow Creek\", \"end_place_name\": null}], \"places\": [{\"name\": \"Willow Creek\", \"description\": \"A quaint town nestled amidst rolling hills and whispering willows.\"}, {\"name\": \"The forest\", \"description\": \"A shadowy place with whispering trees and unseen creatures.\"}], \"things\": [{\"name\": \"Magical backpack\", \"description\": \"A magical backpack that holds an enchanted world filled with wonders.\", \"start_place_name\": \"Anya\\'s grandmother\\'s house\", \"end_place_name\": \"Willow Creek\"}, {\"name\": \"Shimmering sword\", \"description\": \"A sword that Anya uses to defeat the monster.\", \"start_place_name\": \"Anya\\'s backpack\", \"end_place_name\": null}, {\"name\": \"Book of ancient spells\", \"description\": \"A book that contains ancient spells.\", \"start_place_name\": \"Anya\\'s backpack\", \"end_place_name\": null}, {\"name\": \"Tiny compass\", \"description\": \"A compass that always points north.\", \"start_place_name\": \"Anya\\'s backpack\", \"end_place_name\": null}, {\"name\": \"Magical key\", \"description\": \"A key that can open any lock.\", \"start_place_name\": \"Anya\\'s backpack\", \"end_place_name\": null}, {\"name\": \"Monster\", \"description\": \"A massive beast with sharp teeth, glowing red eyes, and claws that could crush a human with ease.\", \"start_place_name\": \"The forest\", \"end_place_name\": null}], \"relationships\": [{\"person_1_name\": \"Anya\", \"person_2_name\": \"Elise\", \"relationship\": \"Mother-daughter\"}, {\"person_1_name\": \"Anya\", \"person_2_name\": \"Edward\", \"relationship\": \"Father-daughter\"}, {\"person_1_name\": \"Anya\", \"person_2_name\": \"Samuel\", \"relationship\": \"Best friends\"}]}'"
            ]
          },
          "execution_count": 47,
          "metadata": {},
          "output_type": "execute_result"
        }
      ],
      "source": [
        "response.text"
      ]
    },
    {
      "cell_type": "markdown",
      "metadata": {
        "id": "ScEdqKq1lhmQ"
      },
      "source": [
        "那回傳了一個 json 字串。可以試著解析看看：\n"
      ]
    },
    {
      "cell_type": "code",
      "execution_count": null,
      "metadata": {
        "id": "xSdj50czL4pM"
      },
      "outputs": [
        {
          "name": "stdout",
          "output_type": "stream",
          "text": [
            "{\n",
            "    \"people\": [\n",
            "        {\n",
            "            \"name\": \"Anya\",\n",
            "            \"description\": \"A young girl who possesses a magical backpack.\",\n",
            "            \"start_place_name\": \"Willow Creek\",\n",
            "            \"end_place_name\": null\n",
            "        },\n",
            "        {\n",
            "            \"name\": \"Elise\",\n",
            "            \"description\": \"Anya's kind-hearted mother.\",\n",
            "            \"start_place_name\": \"Willow Creek\",\n",
            "            \"end_place_name\": null\n",
            "        },\n",
            "        {\n",
            "            \"name\": \"Edward\",\n",
            "            \"description\": \"Anya's wise-bearded father.\",\n",
            "            \"start_place_name\": \"Willow Creek\",\n",
            "            \"end_place_name\": null\n",
            "        },\n",
            "        {\n",
            "            \"name\": \"Samuel\",\n",
            "            \"description\": \"Anya's curious and adventurous best friend.\",\n",
            "            \"start_place_name\": \"Willow Creek\",\n",
            "            \"end_place_name\": null\n",
            "        }\n",
            "    ],\n",
            "    \"places\": [\n",
            "        {\n",
            "            \"name\": \"Willow Creek\",\n",
            "            \"description\": \"A quaint town nestled amidst rolling hills and whispering willows.\"\n",
            "        },\n",
            "        {\n",
            "            \"name\": \"The forest\",\n",
            "            \"description\": \"A shadowy place with whispering trees and unseen creatures.\"\n",
            "        }\n",
            "    ],\n",
            "    \"things\": [\n",
            "        {\n",
            "            \"name\": \"Magical backpack\",\n",
            "            \"description\": \"A magical backpack that holds an enchanted world filled with wonders.\",\n",
            "            \"start_place_name\": \"Anya's grandmother's house\",\n",
            "            \"end_place_name\": \"Willow Creek\"\n",
            "        },\n",
            "        {\n",
            "            \"name\": \"Shimmering sword\",\n",
            "            \"description\": \"A sword that Anya uses to defeat the monster.\",\n",
            "            \"start_place_name\": \"Anya's backpack\",\n",
            "            \"end_place_name\": null\n",
            "        },\n",
            "        {\n",
            "            \"name\": \"Book of ancient spells\",\n",
            "            \"description\": \"A book that contains ancient spells.\",\n",
            "            \"start_place_name\": \"Anya's backpack\",\n",
            "            \"end_place_name\": null\n",
            "        },\n",
            "        {\n",
            "            \"name\": \"Tiny compass\",\n",
            "            \"description\": \"A compass that always points north.\",\n",
            "            \"start_place_name\": \"Anya's backpack\",\n",
            "            \"end_place_name\": null\n",
            "        },\n",
            "        {\n",
            "            \"name\": \"Magical key\",\n",
            "            \"description\": \"A key that can open any lock.\",\n",
            "            \"start_place_name\": \"Anya's backpack\",\n",
            "            \"end_place_name\": null\n",
            "        },\n",
            "        {\n",
            "            \"name\": \"Monster\",\n",
            "            \"description\": \"A massive beast with sharp teeth, glowing red eyes, and claws that could crush a human with ease.\",\n",
            "            \"start_place_name\": \"The forest\",\n",
            "            \"end_place_name\": null\n",
            "        }\n",
            "    ],\n",
            "    \"relationships\": [\n",
            "        {\n",
            "            \"person_1_name\": \"Anya\",\n",
            "            \"person_2_name\": \"Elise\",\n",
            "            \"relationship\": \"Mother-daughter\"\n",
            "        },\n",
            "        {\n",
            "            \"person_1_name\": \"Anya\",\n",
            "            \"person_2_name\": \"Edward\",\n",
            "            \"relationship\": \"Father-daughter\"\n",
            "        },\n",
            "        {\n",
            "            \"person_1_name\": \"Anya\",\n",
            "            \"person_2_name\": \"Samuel\",\n",
            "            \"relationship\": \"Best friends\"\n",
            "        }\n",
            "    ]\n",
            "}\n"
          ]
        }
      ],
      "source": [
        "import json\n",
        "\n",
        "json_text = response.text.strip('`\\r\\n ').removeprefix('json')\n",
        "print(json.dumps(json.loads(json_text), indent=4))"
      ]
    },
    {
      "cell_type": "markdown",
      "metadata": {
        "id": "TgC_wkHPmkHn"
      },
      "source": [
        "這相對簡單且常常有效，但你可能透過使用 API 的功能呼叫功能定義架構使之更嚴格/健全。\n"
      ]
    },
    {
      "cell_type": "markdown",
      "metadata": {
        "id": "CxMC28LAOfUf"
      },
      "source": [
        "## 使用函式呼叫\n"
      ]
    },
    {
      "cell_type": "markdown",
      "metadata": {
        "id": "x-V6PJn83Kh9"
      },
      "source": [
        "如果你尚未完成[函式呼叫基礎](https://ai.google.dev/tutorials/function_calling_python_quickstart) 教學課程，務必先完成該課程。\n",
        "\n",
        "透過函式呼叫函式及其參數會以 `glm.FunctionDeclaration` 來描述給 API。在基本情況下，SDK 可以從函式及其註解建立 `FunctionDeclaration`。SDK 目前無法處理巢狀 `OBJECT` (`dict`) 參數的描述。因此，現階段你需要明確定義它們。\n"
      ]
    },
    {
      "cell_type": "markdown",
      "metadata": {
        "id": "k83LZ5MCBfTJ"
      },
      "source": [
        "### 定義模式\n",
        "\n",
        "從定義 `person` 為具有字串欄位 `name`, `description`, `start_place_name`, `end_place_name` 的物件開始。\n"
      ]
    },
    {
      "cell_type": "code",
      "execution_count": 189,
      "metadata": {
        "id": "p2efqZA7BAzp"
      },
      "outputs": [],
      "source": [
        "person = glm.Schema(\n",
        "    type = glm.Type.OBJECT,\n",
        "    properties = {\n",
        "        'name':  glm.Schema(type=glm.Type.STRING),\n",
        "        'description':  glm.Schema(type=glm.Type.STRING),\n",
        "        'start_place_name': glm.Schema(type=glm.Type.STRING),\n",
        "        'end_place_name': glm.Schema(type=glm.Type.STRING)\n",
        "    },\n",
        "    required=['name', 'description', 'start_place_name', 'end_place_name']\n",
        ")"
      ]
    },
    {
      "cell_type": "markdown",
      "metadata": {
        "id": "HGV1wxx6BCJl"
      },
      "source": [
        "然後定義 people 為 `ARRAY` 類別的 `person` 物件：\n"
      ]
    },
    {
      "cell_type": "code",
      "execution_count": 190,
      "metadata": {
        "id": "Ur7kzpiA_Dqw"
      },
      "outputs": [],
      "source": [
        "people = glm.Schema(\n",
        "    type=glm.Type.ARRAY,\n",
        "    items=person\n",
        ")"
      ]
    },
    {
      "cell_type": "markdown",
      "metadata": {
        "id": "N6uD63sBBJ3i"
      },
      "source": [
        "然後對每個你試圖提取實體做同樣的事情：\n"
      ]
    },
    {
      "cell_type": "code",
      "execution_count": 191,
      "metadata": {
        "id": "7wd3jTqj_bVi"
      },
      "outputs": [],
      "source": [
        "place = glm.Schema(\n",
        "    type = glm.Type.OBJECT,\n",
        "    properties = {\n",
        "        'name':  glm.Schema(type=glm.Type.STRING),\n",
        "        'description':  glm.Schema(type=glm.Type.STRING),\n",
        "    }\n",
        ")\n",
        "\n",
        "places = glm.Schema(\n",
        "    type=glm.Type.ARRAY,\n",
        "    items=place\n",
        ")"
      ]
    },
    {
      "cell_type": "code",
      "execution_count": 192,
      "metadata": {
        "id": "45cLwvCd_vg_"
      },
      "outputs": [],
      "source": [
        "thing = glm.Schema(\n",
        "  type = glm.Type.OBJECT,\n",
        "  properties = {\n",
        "      'name':  glm.Schema(type=glm.Type.STRING),\n",
        "      'description':  glm.Schema(type=glm.Type.STRING),\n",
        "  }\n",
        ")\n",
        "\n",
        "things = glm.Schema(\n",
        "    type=glm.Type.ARRAY,\n",
        "    items=thing\n",
        ")"
      ]
    },
    {
      "cell_type": "code",
      "execution_count": 193,
      "metadata": {
        "id": "8DdVSZJfADDY"
      },
      "outputs": [],
      "source": [
        "relationship = glm.Schema(\n",
        "    type = glm.Type.OBJECT,\n",
        "    properties = {\n",
        "        'person_1_name':  glm.Schema(type=glm.Type.STRING),\n",
        "        'person_2_name':  glm.Schema(type=glm.Type.STRING),\n",
        "        'relationship':  glm.Schema(type=glm.Type.STRING),\n",
        "    }\n",
        ")\n",
        "\n",
        "relationships = glm.Schema(\n",
        "    type=glm.Type.ARRAY,\n",
        "    items=relationship\n",
        ")"
      ]
    },
    {
      "cell_type": "markdown",
      "metadata": {
        "id": "mJwqEUqjBToJ"
      },
      "source": [
        "現在建立 `FunctionDeclaration`：\n"
      ]
    },
    {
      "cell_type": "code",
      "execution_count": 194,
      "metadata": {
        "id": "YQkiVCtsPbUy"
      },
      "outputs": [],
      "source": [
        "add_to_database = glm.FunctionDeclaration(\n",
        "    name=\"add_to_database\",\n",
        "    description=textwrap.dedent(\"\"\"\\\n",
        "        Adds entities to the database.\n",
        "        \"\"\"),\n",
        "    parameters=glm.Schema(\n",
        "        type=glm.Type.OBJECT,\n",
        "        properties = {\n",
        "            'people': people,\n",
        "            'places': places,\n",
        "            'things': things,\n",
        "            'relationships': relationships\n",
        "        }\n",
        "    )\n",
        ")"
      ]
    },
    {
      "cell_type": "markdown",
      "metadata": {
        "id": "e1_QSwD9Bmy5"
      },
      "source": [
        "### 呼叫 API\n",
        "\n",
        "如同你在 [函式呼叫基本知識](https://ai.google.dev/tutorials/function_calling_python_quickstart) 中看到的，現在你可以將 `FunctionDeclaration` 傳遞給 `genai.GenerativeModel` 建構函式的 `tools` 參數，而 Construcotr 也會接受函式宣告的等效 JSON 表示法：\n"
      ]
    },
    {
      "cell_type": "code",
      "execution_count": 195,
      "metadata": {
        "id": "5PGAPRDJP4Qx"
      },
      "outputs": [],
      "source": [
        "model = model = genai.GenerativeModel(\n",
        "    model_name='gemini-1.0-pro',\n",
        "    tools = [add_to_database])"
      ]
    },
    {
      "cell_type": "markdown",
      "metadata": {
        "id": "1uTYW5cVCDST"
      },
      "source": [
        "每次你呼叫 API 時，SDK 將會將工具與你的提示訊息寄出，而模型應該呼叫你定義的那個功能：\n"
      ]
    },
    {
      "cell_type": "code",
      "execution_count": 196,
      "metadata": {
        "id": "bAPA7fNtSUwN"
      },
      "outputs": [],
      "source": [
        "result = model.generate_content(f\"\"\"\n",
        "Please add the people, places, things, and relationships from this story to the database:\n",
        "\n",
        "{story}\n",
        "\"\"\")"
      ]
    },
    {
      "cell_type": "markdown",
      "metadata": {
        "id": "oSG7r6IBCL7S"
      },
      "source": [
        "現在沒有可剖析的文字，結果_就是_一個資料結構。\n"
      ]
    },
    {
      "cell_type": "code",
      "execution_count": 197,
      "metadata": {
        "id": "07n3wXzFOZ4x"
      },
      "outputs": [
        {
          "data": {
            "text/plain": [
              "False"
            ]
          },
          "execution_count": 197,
          "metadata": {},
          "output_type": "execute_result"
        }
      ],
      "source": [
        "'text' in result.candidates[0].content.parts[0]"
      ]
    },
    {
      "cell_type": "code",
      "execution_count": 198,
      "metadata": {
        "id": "i-8hm1HPI5Ce"
      },
      "outputs": [
        {
          "data": {
            "text/plain": [
              "True"
            ]
          },
          "execution_count": 198,
          "metadata": {},
          "output_type": "execute_result"
        }
      ],
      "source": [
        "'function_call' in result.candidates[0].content.parts[0]"
      ]
    },
    {
      "cell_type": "code",
      "execution_count": 199,
      "metadata": {
        "id": "n8BTs6ogDEkq"
      },
      "outputs": [
        {
          "name": "stdout",
          "output_type": "stream",
          "text": [
            "<class 'google.ai.generativelanguage_v1beta.types.content.FunctionCall'>\n"
          ]
        }
      ],
      "source": [
        "fc = result.candidates[0].content.parts[0].function_call\n",
        "print(type(fc))"
      ]
    },
    {
      "cell_type": "markdown",
      "metadata": {
        "id": "kILNHmG2IED3"
      },
      "source": [
        "`glm.FunctionCall` 類別基於 Google 協定緩衝建立，將它轉成更熟悉的 JSON 相容物件：\n"
      ]
    },
    {
      "cell_type": "code",
      "execution_count": 200,
      "metadata": {
        "id": "5GKHtT4-F3qa"
      },
      "outputs": [
        {
          "name": "stdout",
          "output_type": "stream",
          "text": [
            "{\n",
            "    \"name\": \"add_to_database\",\n",
            "    \"args\": {\n",
            "        \"relationships\": [\n",
            "            {\n",
            "                \"relationship\": \"mother-daughter\",\n",
            "                \"person_2_name\": \"Elise\",\n",
            "                \"person_1_name\": \"Anya\"\n",
            "            },\n",
            "            {\n",
            "                \"person_1_name\": \"Anya\",\n",
            "                \"relationship\": \"father-daughter\",\n",
            "                \"person_2_name\": \"Edward\"\n",
            "            },\n",
            "            {\n",
            "                \"relationship\": \"best friends\",\n",
            "                \"person_1_name\": \"Anya\",\n",
            "                \"person_2_name\": \"Samuel\"\n",
            "            }\n",
            "        ],\n",
            "        \"places\": [\n",
            "            {\n",
            "                \"name\": \"Willow Creek\",\n",
            "                \"description\": \"a quaint town nestled amidst rolling hills and whispering willows\"\n",
            "            },\n",
            "            {\n",
            "                \"name\": \"forest\",\n",
            "                \"description\": \"a shadowy place with rustling undergrowth\"\n",
            "            }\n",
            "        ],\n",
            "        \"things\": [\n",
            "            {\n",
            "                \"description\": \"a backpack with a shimmering emerald-green fabric and leather straps, containing a magical sword, a book of ancient spells, a tiny compass that always points north, and a magical key that could open any lock\",\n",
            "                \"name\": \"magical backpack\"\n",
            "            },\n",
            "            {\n",
            "                \"description\": \"a weapon that can defeat monsters\",\n",
            "                \"name\": \"shimmering sword\"\n",
            "            },\n",
            "            {\n",
            "                \"description\": \"a book containing magical spells\",\n",
            "                \"name\": \"book of ancient spells\"\n",
            "            },\n",
            "            {\n",
            "                \"name\": \"tiny compass\",\n",
            "                \"description\": \"a compass that always points north\"\n",
            "            },\n",
            "            {\n",
            "                \"name\": \"magical key\",\n",
            "                \"description\": \"a key that can open any lock\"\n",
            "            },\n",
            "            {\n",
            "                \"name\": \"monster\",\n",
            "                \"description\": \"a massive beast with sharp teeth, glowing red eyes, and claws that could crush a human with ease\"\n",
            "            }\n",
            "        ],\n",
            "        \"people\": [\n",
            "            {\n",
            "                \"description\": \"a young girl\",\n",
            "                \"start_place_name\": \"Willow Creek\",\n",
            "                \"name\": \"Anya\",\n",
            "                \"end_place_name\": null\n",
            "            },\n",
            "            {\n",
            "                \"start_place_name\": \"Willow Creek\",\n",
            "                \"description\": \"Anya's mother\",\n",
            "                \"name\": \"Elise\",\n",
            "                \"end_place_name\": null\n",
            "            },\n",
            "            {\n",
            "                \"start_place_name\": \"Willow Creek\",\n",
            "                \"name\": \"Edward\",\n",
            "                \"end_place_name\": null,\n",
            "                \"description\": \"Anya's father\"\n",
            "            },\n",
            "            {\n",
            "                \"name\": \"Samuel\",\n",
            "                \"end_place_name\": null,\n",
            "                \"start_place_name\": \"Willow Creek\",\n",
            "                \"description\": \"Anya's best friend\"\n",
            "            },\n",
            "            {\n",
            "                \"name\": \"tall, lanky boy\",\n",
            "                \"description\": \"a boy who warned Anya about the monster\",\n",
            "                \"start_place_name\": \"Willow Creek\",\n",
            "                \"end_place_name\": null\n",
            "            }\n",
            "        ]\n",
            "    }\n",
            "}\n"
          ]
        }
      ],
      "source": [
        "print(json.dumps(type(fc).to_dict(fc), indent=4))"
      ]
    },
    {
      "cell_type": "markdown",
      "metadata": {
        "id": "4m8FakjCIKmI"
      },
      "source": [
        "## 結論\n",
        "\n",
        "雖然 API 可以處理輸入純文字並輸出文字的結構化資料擷取問題，但使用函式呼叫可能會更加可靠，因為它允許定義嚴格的架構，並消除潛在容易出錯的分析步驟。\n"
      ]
    }
  ],
  "metadata": {
    "colab": {
      "name": "structured_data_extraction.ipynb",
      "toc_visible": true
    },
    "kernelspec": {
      "display_name": "Python 3",
      "name": "python3"
    }
  },
  "nbformat": 4,
  "nbformat_minor": 0
}