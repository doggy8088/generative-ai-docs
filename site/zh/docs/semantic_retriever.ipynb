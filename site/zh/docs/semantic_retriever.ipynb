{
  "cells": [
    {
      "cell_type": "markdown",
      "metadata": {
        "id": "Tce3stUlHN0L"
      },
      "source": [
        "##### 版權 2024 Google LLC.\n"
      ]
    },
    {
      "cell_type": "code",
      "execution_count": null,
      "metadata": {
        "cellView": "form",
        "id": "tuOe1ymfHZPu"
      },
      "outputs": [],
      "source": [
        "#@title Licensed under the Apache License, Version 2.0 (the \"License\");\n",
        "# you may not use this file except in compliance with the License.\n",
        "# You may obtain a copy of the License at\n",
        "#\n",
        "# https://www.apache.org/licenses/LICENSE-2.0\n",
        "#\n",
        "# Unless required by applicable law or agreed to in writing, software\n",
        "# distributed under the License is distributed on an \"AS IS\" BASIS,\n",
        "# WITHOUT WARRANTIES OR CONDITIONS OF ANY KIND, either express or implied.\n",
        "# See the License for the specific language governing permissions and\n",
        "# limitations under the License."
      ]
    },
    {
      "cell_type": "markdown",
      "metadata": {
        "id": "1_3oPpdBAduw"
      },
      "source": [
        "# 語意檢索器快速入門指南\n"
      ]
    },
    {
      "cell_type": "markdown",
      "metadata": {
        "id": "ZFWzQEqNosrS"
      },
      "source": [
        "<table class=\"tfo-notebook-buttons\" align=\"left\">\n",
        "  <td>\n",
        "    <a target=\"_blank\" href=\"https://ai.google.dev/docs/semantic_retriever\"><img src=\"https://ai.google.dev/static/site-assets/images/docs/notebook-site-button.png\" height=\"32\" width=\"32\" />在 ai.google.dev 上查看</a>\n",
        "  <td>\n",
        "    <a target=\"_blank\" href=\"https://colab.research.google.com/github/doggy8088/generative-ai-docs/blob/main/site/zh/docs/semantic_retriever.ipynb\"><img src=\"https://www.tensorflow.org/images/colab_logo_32px.png\" />在 Google Colab 中執行</a>\n",
        "  </td>\n",
        "  <td>\n",
        "    <a target=\"_blank\" href=\"https://github.com/doggy8088/generative-ai-docs/blob/main/site/zh/docs/semantic_retriever.ipynb\"><img src=\"https://www.tensorflow.org/images/GitHub-Mark-32px.png\" />在 GitHub 上查看原始檔</a>\n",
        "  </td>\n",
        "</table>\n"
      ]
    },
    {
      "cell_type": "markdown",
      "metadata": {
        "id": "AVW9cM0nuh1-"
      },
      "source": [
        "## 概述\n",
        "\n",
        "大型語言模型 (LLM) 無需直接針對新能力進行訓練即可學習，但已知 LLM 在受指示提供未受訓回答問題時會「出現幻覺」。這部分是因為 LLM 不會察覺訓練後發生的事件，而且追溯 LLM 用來產生回應的來源也十分困難。要確保應用程式可靠且可擴充，LLM 提供的回應必須奠基於事實，並能夠引述其資訊來源。\n",
        "\n",
        "為克服這些限制，有種常見的做法稱為「檢索增強生成」(RAG)，做法是透過「資訊檢索」(IR) 機制，增強傳送至 LLM 的提示，資料則從外部知識庫檢索而得。知識庫可以是你自己的文件、資料庫或 API 文件集。\n",
        "\n",
        "本筆記本會引導你完成一個工作流程，以透過加強 LLM 的外部文件知識，並執行語義資訊檢索來回答問題，進而改善 LLM 的回應，問題回答方式則採用 [生成語言 API](../api/python/google/ai/generativelanguage) 的語義檢索器和屬性式問答 (AQA) API。\n",
        "\n",
        "注意：這個 API 目前處於 [測試版](/docs/api_versions)，而且 [僅限特定區域](../available_regions) 使用。\n"
      ]
    },
    {
      "cell_type": "markdown",
      "metadata": {
        "id": "7jH3FO_BDua0"
      },
      "source": [
        "## 設定\n"
      ]
    },
    {
      "cell_type": "markdown",
      "metadata": {
        "id": "uQwqEaFLHGlL"
      },
      "source": [
        "### 匯入生成式語言 API\n"
      ]
    },
    {
      "cell_type": "code",
      "execution_count": null,
      "metadata": {
        "id": "6029CKnWG75v"
      },
      "outputs": [],
      "source": [
        "# Install the Client library (Semantic Retriever is only supported for versions >0.4.0)\n",
        "!pip install -U google.ai.generativelanguage"
      ]
    },
    {
      "cell_type": "markdown",
      "metadata": {
        "id": "G4D97GX5BRXb"
      },
      "source": [
        "## 驗證\n",
        "\n",
        "語意檢索 API 讓你對自己的資料執行語意搜尋。由於這是 **你的資料** ，因此這需要更嚴格的存取控制，而不是 API 金鑰。使用服務帳戶透過 OAuth 進行驗證 ([#scrollTo=eLjhFIOQ7_Dk](#scrollTo=eLjhFIOQ7_Dk))，或是透過你的 [使用者身分證明](#scrollTo=9YGv4x9ehLba)。\n",
        "\n",
        "這個快速入門使用簡易的驗證方式，適用於測試環境，而服務帳戶的設定通常比較容易上手。若要使用於生產環境，請在選擇適合你應用程式的 [存取身分證明](#scrollTo=9YGv4x9ehLba) 之前，先深入了解 [驗證和授權](https://developers.google.com/workspace/guides/auth-overview){:.external}。\n"
      ]
    },
    {
      "cell_type": "markdown",
      "metadata": {
        "id": "eLjhFIOQ7_Dk"
      },
      "source": [
        "### 使用服務帳戶設定 OAuth\n",
        "\n",
        "按照下列步驟使用服務帳戶設定 OAuth：\n",
        "\n",
        "\n",
        "1. 啟用 [Generative Language API](https://console.cloud.google.com/flows/enableapi?apiid=generativelanguage.googleapis.com){:.external}。\n",
        "\n",
        "<img width=400 src=\"https://ai.google.dev/tutorials/images/semantic_retriever_enable_api.png\">\n",
        "\n",
        "2. 按照 [文件](https://developers.google.com/identity/protocols/oauth2/service-account#creatinganaccount){:.external} 建立服務帳戶。\n",
        "\n",
        " * 建立服務帳戶後，產生一個服務帳戶金鑰。\n",
        "\n",
        "<img width=400 src=\"https://ai.google.dev/tutorials/images/semantic_retriever_service_account.png\">\n",
        "\n",
        "3. 使用左側邊欄中的檔案圖示，然後使用載入圖示，載入你的服務帳戶檔案，如下圖所示。\n",
        "\n",
        " * 將載入的檔案重新命名為 `service_account_key.json` 或變更下面程式碼中的變數 `service_account_file_name`。\n",
        "\n",
        "<img width=400 src=\"https://ai.google.dev/tutorials/images/colab_upload.png\">\n"
      ]
    },
    {
      "cell_type": "code",
      "execution_count": null,
      "metadata": {
        "id": "akwWUSrp8Bx2"
      },
      "outputs": [],
      "source": [
        "!pip install -U google-auth-oauthlib"
      ]
    },
    {
      "cell_type": "code",
      "execution_count": null,
      "metadata": {
        "id": "2jZmqVCj8FKa"
      },
      "outputs": [],
      "source": [
        "service_account_file_name = 'service_account_key.json'\n",
        "\n",
        "from google.oauth2 import service_account\n",
        "\n",
        "credentials = service_account.Credentials.from_service_account_file(service_account_file_name)\n",
        "\n",
        "scoped_credentials = credentials.with_scopes(\n",
        "    ['https://www.googleapis.com/auth/cloud-platform', 'https://www.googleapis.com/auth/generative-language.retriever'])"
      ]
    },
    {
      "cell_type": "markdown",
      "metadata": {
        "id": "Qqjs2tvvicqq"
      },
      "source": [
        "使用服務帳戶認證初始化客戶端函式庫。\n"
      ]
    },
    {
      "cell_type": "code",
      "execution_count": null,
      "metadata": {
        "id": "P719DMtK8t-p"
      },
      "outputs": [],
      "source": [
        "import google.ai.generativelanguage as glm\n",
        "generative_service_client = glm.GenerativeServiceClient(credentials=scoped_credentials)\n",
        "retriever_service_client = glm.RetrieverServiceClient(credentials=scoped_credentials)\n",
        "permission_service_client = glm.PermissionServiceClient(credentials=scoped_credentials)"
      ]
    },
    {
      "cell_type": "markdown",
      "metadata": {
        "id": "4EQJD2PWD56T"
      },
      "source": [
        "## 建立語料庫\n",
        "\n",
        "使用「語意檢索應用程式介面 (API)」，每個專案最多可以定義 5 個自訂文字語料庫。定義語料庫時，你可以指定下列任何欄位：\n",
        "\n",
        "  * `name`：`語料庫`資源名稱 (ID)。只能包含最多 40 個英數字元。如果建立時未輸入 `name`，系統將從 `display_name` 的字首和 12 個字元的隨機字尾產生長度不超過 40 個字元的獨一無二名稱。\n",
        "  * `display_name`：`語料庫` 的人機可讀顯示名稱。只能包含最多 512 個字元，包括英數字、空格和破折號。\n"
      ]
    },
    {
      "cell_type": "code",
      "execution_count": null,
      "metadata": {
        "id": "AaPZiXVwEDHZ"
      },
      "outputs": [],
      "source": [
        "example_corpus = glm.Corpus(display_name=\"Google for Developers Blog\")\n",
        "create_corpus_request = glm.CreateCorpusRequest(corpus=example_corpus)\n",
        "\n",
        "# Make the request\n",
        "create_corpus_response = retriever_service_client.create_corpus(create_corpus_request)\n",
        "\n",
        "# Set the `corpus_resource_name` for subsequent sections.\n",
        "corpus_resource_name = create_corpus_response.name\n",
        "print(create_corpus_response)"
      ]
    },
    {
      "cell_type": "markdown",
      "metadata": {
        "id": "gQr7gDKVErdg"
      },
      "source": [
        "### 取得已建立的語料庫\n",
        "\n",
        "使用 `GetCorpusRequest` 方法以程式存取上文建立的 `語料庫`。 `name` 參數的值是指 `語料庫` 的完整資源名稱，並在上方Cell設為 `corpus_resource_name`。預期的格式為 `corpora/corpus-123`。\n"
      ]
    },
    {
      "cell_type": "code",
      "execution_count": null,
      "metadata": {
        "id": "8zhexURaEtVa"
      },
      "outputs": [],
      "source": [
        "get_corpus_request = glm.GetCorpusRequest(name=corpus_resource_name)\n",
        "\n",
        "# Make the request\n",
        "get_corpus_response = retriever_service_client.get_corpus(get_corpus_request)\n",
        "\n",
        "# Print the response\n",
        "print(get_corpus_response)"
      ]
    },
    {
      "cell_type": "markdown",
      "metadata": {
        "id": "lbrLPNXRF2qP"
      },
      "source": [
        "## 建立文件\n",
        "\n",
        "`Corpus` 最多可包含 10,000 份 `Document`。你可在定義文件時指定下列任一欄位：\n",
        "\n",
        "  * `name`：`Document` 資源名稱 (ID)。僅能包含最多 40 個字元 (僅英數字或破折號)。ID 不能以破折號開頭或結尾。如果在建立時名稱為空，將由 `display_name` 衍生一個獨特的名稱以及 12 個字元的隨機後綴。\n",
        "  * `display_name`：人類可讀顯示名稱。僅能包含最多 512 個字元，包括英數字、空白和破折號。\n",
        "\n",
        "`Document` 也支援最多 20 個使用者指定的 `custom_metadata` 欄位，指定為關鍵字值配對。自訂元資料可能是字串、字串清單或數字。請注意，字串清單最多可支援 10 個值，而數字值則在 API 中以浮點數表示。\n"
      ]
    },
    {
      "cell_type": "code",
      "execution_count": null,
      "metadata": {
        "id": "q7nwjPaGF_Nj"
      },
      "outputs": [],
      "source": [
        "# Create a document with a custom display name.\n",
        "example_document = glm.Document(display_name=\"Introducing Project IDX, An Experiment to Improve Full-stack, Multiplatform App Development\")\n",
        "\n",
        "# Add metadata.\n",
        "# Metadata also supports numeric values not specified here\n",
        "document_metadata = [\n",
        "    glm.CustomMetadata(key=\"url\", string_value=\"https://developers.googleblog.com/2023/08/introducing-project-idx-experiment-to-improve-full-stack-multiplatform-app-development.html\")]\n",
        "example_document.custom_metadata.extend(document_metadata)\n",
        "\n",
        "# Make the request\n",
        "# corpus_resource_name is a variable set in the \"Create a corpus\" section.\n",
        "create_document_request = glm.CreateDocumentRequest(parent=corpus_resource_name, document=example_document)\n",
        "create_document_response = retriever_service_client.create_document(create_document_request)\n",
        "\n",
        "# Set the `document_resource_name` for subsequent sections.\n",
        "document_resource_name = create_document_response.name\n",
        "print(create_document_response)"
      ]
    },
    {
      "cell_type": "markdown",
      "metadata": {
        "id": "AiKINhAtGd8e"
      },
      "source": [
        "### 取得建立的的文件\n",
        "\n",
        "使用 `GetDocumentRequest` 方法以程式設計存取你在上面建立的文件。`name` 參數的值參照文件資源的完整名稱，並設定於上面的Cell為 `document_resource_name`。預期的格式是 `corpora/corpus-123/documents/document-123`。\n"
      ]
    },
    {
      "cell_type": "code",
      "execution_count": null,
      "metadata": {
        "id": "lTTc_gtWGfpe"
      },
      "outputs": [],
      "source": [
        "get_document_request = glm.GetDocumentRequest(name=document_resource_name)\n",
        "\n",
        "# Make the request\n",
        "# document_resource_name is a variable set in the \"Create a document\" section.\n",
        "get_document_response = retriever_service_client.get_document(get_document_request)\n",
        "\n",
        "# Print the response\n",
        "print(get_document_response)"
      ]
    },
    {
      "cell_type": "markdown",
      "metadata": {
        "id": "OuuDtAYBOX55"
      },
      "source": [
        "## 擷取和分塊文件\n",
        "\n",
        "為了提升語義檢索時向量資料庫所返回內容的相關性，在擷取文件的同時將大型文件分割成較小的片段或 **塊** 。\n",
        "\n",
        "```chunk``` 是 ```document``` 的子部分，在向量表示和儲存的目的上被視為獨立的單位。```chunk``` 最多可以擁有 2043 個 Token。```corpus``` 最多可以擁有 100 萬個 ```chunk```。\n",
        "\n",
        "與 ```Document``` 類似，```Chunk``` 也支援使用者自訂的 ```custom_metadata``` 欄位，最多 20 個，指定為關鍵字值對的形式。使用者自訂的欄位可以是字串、字串清單或數字。請注意，字串清單最多可以支援 10 個值，而數字值在 API 中會表示為浮點數。\n",
        "\n",
        "本指南使用了 Google 的 [Open Source HtmlChunker](https://github.com/google/labs-prototypes/tree/main/seeds/chunker-python){:.external}。\n",
        "\n",
        "其他可使用的分塊器包含 [LangChain](https://python.langchain.com/docs/get_started/introduction){:.external} 或 [LlamaIndex](https://www.llamaindex.ai/){:.external}。\n"
      ]
    },
    {
      "cell_type": "markdown",
      "metadata": {
        "id": "SkMzKWTbPBOU"
      },
      "source": [
        "### HtmlChunker 處理進出的 HTML 及區塊\n"
      ]
    },
    {
      "cell_type": "code",
      "execution_count": null,
      "metadata": {
        "id": "nh7mwa7MPEZ9"
      },
      "outputs": [],
      "source": [
        "!pip install google-labs-html-chunker\n",
        "\n",
        "from google_labs_html_chunker.html_chunker import HtmlChunker\n",
        "\n",
        "from urllib.request import urlopen"
      ]
    },
    {
      "cell_type": "markdown",
      "metadata": {
        "id": "GUZYcNrEM-AK"
      },
      "source": [
        "取得網站的 HTML DOM。在此，HTML 是直接讀取的，但最好在渲染後取得 HTML 以包含 Javascript 注入的 HTML，例如 `document.documentElement.innerHTML`。\n"
      ]
    },
    {
      "cell_type": "code",
      "execution_count": null,
      "metadata": {
        "id": "lgtl2Ow5PO94"
      },
      "outputs": [],
      "source": [
        "with(urlopen(\"https://developers.googleblog.com/2023/08/introducing-project-idx-experiment-to-improve-full-stack-multiplatform-app-development.html\")) as f:\n",
        "  html = f.read().decode(\"utf-8\")"
      ]
    },
    {
      "cell_type": "markdown",
      "metadata": {
        "id": "6oMLH2BINIde"
      },
      "source": [
        "將純文字文件拆解成段落，並從這些段落建立 `Chunk`。此步驟建立 `Chunk` 物件，而下一步會將它們上傳到語意化檢索 API。\n"
      ]
    },
    {
      "cell_type": "code",
      "execution_count": null,
      "metadata": {
        "id": "z5G0oN4PNJEf"
      },
      "outputs": [],
      "source": [
        "# Chunk the file using HtmlChunker\n",
        "chunker = HtmlChunker(\n",
        "    max_words_per_aggregate_passage=200,\n",
        "    greedily_aggregate_sibling_nodes=True,\n",
        "    html_tags_to_exclude={\"noscript\", \"script\", \"style\"},\n",
        ")\n",
        "passages = chunker.chunk(html)\n",
        "print(passages)\n",
        "\n",
        "\n",
        "# Create `Chunk` entities.\n",
        "chunks = []\n",
        "for passage in passages:\n",
        "    chunk = glm.Chunk(data={'string_value': passage})\n",
        "    # Optionally, you can add metadata to a chunk\n",
        "    chunk.custom_metadata.append(glm.CustomMetadata(key=\"tags\",\n",
        "                                                    string_list_value=glm.StringList(\n",
        "                                                        values=[\"Google For Developers\", \"Project IDX\", \"Blog\", \"Announcement\"])))\n",
        "    chunk.custom_metadata.append(glm.CustomMetadata(key=\"chunking_strategy\",\n",
        "                                                    string_value=\"greedily_aggregate_sibling_nodes\"))\n",
        "    chunk.custom_metadata.append(glm.CustomMetadata(key = \"publish_date\",\n",
        "                                                    numeric_value = 20230808))\n",
        "    chunks.append(chunk)\n",
        "print(chunks)"
      ]
    },
    {
      "cell_type": "markdown",
      "metadata": {
        "id": "PIqgob2fUxeO"
      },
      "source": [
        "## 批量建立塊\n",
        "\n",
        "分批建立塊。 你可以為每個批次要求指定最多 100 個區塊。\n",
        "\n",
        "對於單一塊建立，請使用 `CreateChunk()`。\n"
      ]
    },
    {
      "cell_type": "code",
      "execution_count": null,
      "metadata": {
        "id": "iZX3oiOiU0YA"
      },
      "outputs": [],
      "source": [
        "# Option 1: Use HtmlChunker in the section above.\n",
        "# `chunks` is the variable set from the section above.\n",
        "create_chunk_requests = []\n",
        "for chunk in chunks:\n",
        "  create_chunk_requests.append(glm.CreateChunkRequest(parent=document_resource_name, chunk=chunk))\n",
        "\n",
        "# Make the request\n",
        "request = glm.BatchCreateChunksRequest(parent=document_resource_name, requests=create_chunk_requests)\n",
        "response = retriever_service_client.batch_create_chunks(request)\n",
        "print(response)"
      ]
    },
    {
      "cell_type": "markdown",
      "metadata": {
        "id": "xnn-IDSPGLcf"
      },
      "source": [
        "或者，你可以使用 HtmlChunker 來製作區塊。\n"
      ]
    },
    {
      "cell_type": "code",
      "execution_count": null,
      "metadata": {
        "id": "fE7_ueBPGMib"
      },
      "outputs": [],
      "source": [
        "# Add up to 100 CreateChunk requests per batch request.\n",
        "# document_resource_name is a variable set in the \"Create a document\" section.\n",
        "chunks = []\n",
        "chunk_1 = glm.Chunk(data={'string_value': \"Chunks support user specified metadata.\"})\n",
        "chunk_1.custom_metadata.append(glm.CustomMetadata(key=\"section\",\n",
        "                                                  string_value=\"Custom metadata filters\"))\n",
        "chunk_2 = glm.Chunk(data={'string_value': \"The maximum number of metadata supported is 20\"})\n",
        "chunk_2.custom_metadata.append(glm.CustomMetadata(key = \"num_keys\",\n",
        "                                                  numeric_value = 20))\n",
        "chunks = [chunk_1, chunk_2]\n",
        "create_chunk_requests = []\n",
        "for chunk in chunks:\n",
        "  create_chunk_requests.append(glm.CreateChunkRequest(parent=document_resource_name, chunk=chunk))\n",
        "\n",
        "# Make the request\n",
        "request = glm.BatchCreateChunksRequest(parent=document_resource_name, requests=create_chunk_requests)\n",
        "response = retriever_service_client.batch_create_chunks(request)\n",
        "print(response)"
      ]
    },
    {
      "cell_type": "markdown",
      "metadata": {
        "id": "r8kTaWguU1ws"
      },
      "source": [
        "### 列出 `Chunk` 並取得狀態\n",
        "\n",
        "使用 `ListChunksRequest` 方法以分頁列表取得所有可用的 `Chunk`，每個頁面最多有 100 個 `Chunk`，並根據 `Chunk.create_time` 的升冪進行排序。如果你未指定限制，則最多會傳回 10 個 `Chunk`。\n",
        "\n",
        "提供在 `ListChunksRequest` 回應中傳回的 `next_page_token` 做為下一個請求的參數，以擷取下一個頁面。請注意，在分頁時，提供給 `ListChunks` 的所有其他參數都必須與提供頁面權杖的呼叫相符。\n",
        "\n",
        "所有 `Chunk` 都會傳回 `狀態`。在查詢 `Corpus` 之前，使用這個狀態檢查 `Chunks` 的狀態。`Chunk` 狀態包括 - `未指定`、`處理中`、`已啟用` 和 `失敗`。你只能查詢 `已啟用` 的 `Chunk`。\n"
      ]
    },
    {
      "cell_type": "code",
      "execution_count": null,
      "metadata": {
        "id": "DsNm8oJN6j18"
      },
      "outputs": [],
      "source": [
        "# Make the request\n",
        "request = glm.ListChunksRequest(parent=document_resource_name)\n",
        "list_chunks_response = retriever_service_client.list_chunks(request)\n",
        "for index, chunks in enumerate(list_chunks_response.chunks):\n",
        "  print(f'\\nChunk # {index + 1}')\n",
        "  print(f'Resource Name: {chunks.name}')\n",
        "  # Only ACTIVE chunks can be queried.\n",
        "  print(f'State: {glm.Chunk.State(chunks.state).name}')"
      ]
    },
    {
      "cell_type": "markdown",
      "metadata": {
        "id": "IRg1uAZSAaWS"
      },
      "source": [
        "## 擷取另一份文件\n",
        "\n",
        "經由 HtmlChunker 新增另一份 `Document`，並新增篩選器。\n"
      ]
    },
    {
      "cell_type": "code",
      "execution_count": null,
      "metadata": {
        "id": "quSpcAkRAX7L"
      },
      "outputs": [],
      "source": [
        "# Create a document with a custom display name.\n",
        "example_document = glm.Document(display_name=\"How it’s Made: Interacting with Gemini through multimodal prompting\")\n",
        "\n",
        "# Add document metadata.\n",
        "# Metadata also supports numeric values not specified here\n",
        "document_metadata = [\n",
        "    glm.CustomMetadata(key=\"url\", string_value=\"https://developers.googleblog.com/2023/12/how-its-made-gemini-multimodal-prompting.html\")]\n",
        "example_document.custom_metadata.extend(document_metadata)\n",
        "\n",
        "# Make the CreateDocument request\n",
        "# corpus_resource_name is a variable set in the \"Create a corpus\" section.\n",
        "create_document_request = glm.CreateDocumentRequest(parent=corpus_resource_name, document=example_document)\n",
        "create_document_response = retriever_service_client.create_document(create_document_request)\n",
        "\n",
        "# Set the `document_resource_name` for subsequent sections.\n",
        "document_resource_name = create_document_response.name\n",
        "print(create_document_response)\n",
        "\n",
        "# Chunks - add another webpage from Google for Developers\n",
        "with(urlopen(\"https://developers.googleblog.com/2023/12/how-its-made-gemini-multimodal-prompting.html\")) as f:\n",
        "  html = f.read().decode(\"utf-8\")\n",
        "\n",
        "# Chunk the file using HtmlChunker\n",
        "chunker = HtmlChunker(\n",
        "    max_words_per_aggregate_passage=100,\n",
        "    greedily_aggregate_sibling_nodes=False,\n",
        ")\n",
        "passages = chunker.chunk(html)\n",
        "\n",
        "# Create `Chunk` entities.\n",
        "chunks = []\n",
        "for passage in passages:\n",
        "    chunk = glm.Chunk(data={'string_value': passage})\n",
        "    chunk.custom_metadata.append(glm.CustomMetadata(key=\"tags\",\n",
        "                                                    string_list_value=glm.StringList(\n",
        "                                                        values=[\"Google For Developers\", \"Gemini API\", \"Blog\", \"Announcement\"])))\n",
        "    chunk.custom_metadata.append(glm.CustomMetadata(key=\"chunking_strategy\",\n",
        "                                                    string_value=\"no_aggregate_sibling_nodes\"))\n",
        "    chunk.custom_metadata.append(glm.CustomMetadata(key = \"publish_date\",\n",
        "                                                    numeric_value = 20231206))\n",
        "    chunks.append(chunk)\n",
        "\n",
        "# Make the request\n",
        "create_chunk_requests = []\n",
        "for chunk in chunks:\n",
        "  create_chunk_requests.append(glm.CreateChunkRequest(parent=document_resource_name, chunk=chunk))\n",
        "request = glm.BatchCreateChunksRequest(parent=document_resource_name, requests=create_chunk_requests)\n",
        "response = retriever_service_client.batch_create_chunks(request)\n",
        "print(response)"
      ]
    },
    {
      "cell_type": "markdown",
      "metadata": {
        "id": "narzqqh0U0Ii"
      },
      "source": [
        "## 查詢語料庫\n",
        "\n",
        "使用 `QueryCorpusRequest` 方法進行語意搜尋以獲取相關章節。\n",
        "\n",
        "* `results_count`: 指定要傳回的章節數目。最大值為 100。如果未指定，API 會傳回最多 10 個 `Chunk`。\n",
        "* `metadata_filters`: 依據 `chunk_metadata` 或 `document_metadata` 篩選。每個 `MetadataFilter` 都必須對應到一個唯一的金鑰。多個 `MetadataFilter` 物件會透過邏輯 `AND` 結合。類似元資料篩選條件會透過邏輯 `OR` 結合。以下是部分範例：\n",
        "\n",
        "```\n",
        "(year >= 2020 OR year < 2010) AND (genre = drama OR genre = action)\n",
        "\n",
        "metadata_filter = [\n",
        "  {\n",
        "    key = \"document.custom_metadata.year\"\n",
        "    conditions = [\n",
        "      {int_value = 2020, operation = GREATER_EQUAL},\n",
        "      {int_value = 2010, operation = LESS}]\n",
        "  },\n",
        "  {\n",
        "    key = \"document.custom_metadata.genre\"\n",
        "    conditions = [\n",
        "      {string_value = \"drama\", operation = EQUAL},\n",
        "      {string_value = \"action\", operation = EQUAL}}]\n",
        "  }]\n",
        "```\n",
        "\n",
        "請注意，對於相同的金鑰，只有數字值支援「AND」。字串值只支援「OR」。\n",
        "\n",
        "```\n",
        "(\"Google for Developers\" in tags) and (20230314 > publish_date)\n",
        "\n",
        "metadata_filter = [\n",
        " {\n",
        "    key = \"chunk.custom_metadata.tags\"\n",
        "    conditions = [\n",
        "    {string_value = 'Google for Developers', operation = INCLUDES},\n",
        "  },\n",
        "  {\n",
        "    key = \"chunk.custom_metadata.publish_date\"\n",
        "    conditions = [\n",
        "    {numeric_value = 20230314, operation = GREATER_EQUAL}]\n",
        "  }]\n",
        "```\n"
      ]
    },
    {
      "cell_type": "code",
      "execution_count": null,
      "metadata": {
        "id": "ZtoGd0yz7wVg"
      },
      "outputs": [],
      "source": [
        "user_query = \"What is the purpose of Project IDX?\"\n",
        "results_count = 5\n",
        "\n",
        "# Add metadata filters for both chunk and document.\n",
        "chunk_metadata_filter = glm.MetadataFilter(key='chunk.custom_metadata.tags',\n",
        "                                           conditions=[glm.Condition(\n",
        "                                              string_value='Google For Developers',\n",
        "                                              operation=glm.Condition.Operator.INCLUDES)])\n",
        "\n",
        "# Make the request\n",
        "# corpus_resource_name is a variable set in the \"Create a corpus\" section.\n",
        "request = glm.QueryCorpusRequest(name=corpus_resource_name,\n",
        "                                 query=user_query,\n",
        "                                 results_count=results_count,\n",
        "                                 metadata_filters=[chunk_metadata_filter])\n",
        "query_corpus_response = retriever_service_client.query_corpus(request)\n",
        "print(query_corpus_response)"
      ]
    },
    {
      "cell_type": "markdown",
      "metadata": {
        "id": "9yVhNmjkVER2"
      },
      "source": [
        "## 歸因問答\n",
        "\n",
        "使用 [`GenerateAnswer`](../api/python/google/ai/generativelanguage/GenerateAnswerRequest) 方法在你的文件、語料庫或一組段落中執行歸因問答。\n",
        "\n",
        "歸因問答 (AQA) 指的是在給定的背景下回答問題並提供歸因，同時最大限度地減少幻覺。\n",
        "\n",
        "在需要 AQA 的情況下，與使用未調整語言模型相比，`GenerateAnswer` 提供以下幾個優點：\n",
        "\n",
        "* 底層模型經過訓練，只會返回基於所提供背景的答案。\n",
        "* 它識別歸因 (為答案做出貢獻的所提供背景片段)。歸因使用戶能夠驗證答案。\n",
        "* 它估計給定的 (問題、背景) 對的 `answerable_probability`，這進一步讓你能夠根據返回的答案在多大程度上是合理的並正確來轉變產品行為。\n",
        "\n",
        "注意：AQA 目前僅支援英語查詢。\n"
      ]
    },
    {
      "cell_type": "markdown",
      "metadata": {
        "id": "tPNpJdjJaYEz"
      },
      "source": [
        "### `answerable_probability` 和「我不知道」問題\n",
        "\n",
        "在某些情況下，對問題最好的回答實際上是「我不知道」。例如，如果提供的脈絡不包含問題的答案，則該問題被認為是「不可回答的」。\n",
        "\n",
        "AQA 模型非常擅長識別此類情況。它甚至可以區分可回答性和不可回答性的程度。\n",
        "\n",
        "然而，`GenerateAnswer` API 讓你的手握有最終決策權：\n",
        "\n",
        "* *始終* 嘗試傳回有根據的答案 - 即使該答案相對不像是有根據且正確的。\n",
        "* 傳回 `answerable_probability` 值 - 該模型對於答案有根據且正確的機率估計。\n",
        "\n",
        "低 `answerable_probability` 可能可以由以下一個或多個因素說明：\n",
        "\n",
        "* 模型不確定其答案是否正確。\n",
        "* 模型不確定其答案是否建立在引用的段落上；答案可能取而代之根據普世知識得出。例如：`question=\"1 + 1 =?\", passages=[\"2 + 2 = 4\"]` → `answer = 2, answerable_probability = 0.02`\n",
        "* 模型提供了與問題完全無關的資訊。例如：`question=\"這有我的尺寸嗎？, passages=[\"可用尺寸 5 - 11\"]` → `answer=\"是的，有尺寸 5 - 11\", answerable_probability = 0.03\"`\n",
        "* 在 GenerateAnswerRequest 中沒有提出良好的問題。\n",
        "\n",
        "由於低 `answerable_probability` 表示 GenerateAnswerResponse.answer 可能錯誤或沒有根據，**強烈建議進一步處理回答，檢查 `answerable_probability`** 。\n",
        "\n",
        "在 `answerable_probability` 較低時，有些客戶可能想要：\n",
        "* 向使用者顯示類似於「我們無法回答那個問題」的訊息。\n",
        "* 退回到從普世知識回答問題的通用 LLM。此類備援方案的閾值和性質將取決於個別使用案例。`answerable_probability` = 0.5 是良好的起點閾值。\n"
      ]
    },
    {
      "cell_type": "markdown",
      "metadata": {
        "id": "aoUQ37Vqad0V"
      },
      "source": [
        "### AQA 有用提示\n",
        "\n",
        "如需完整 API 規格，請參閱 [`GenerateAnswerRequest` API 參考](../api/python/google/ai/generativelanguage/GenerateAnswerRequest)。\n",
        "\n",
        "* *段落長度*: 建議每段落少於 300 個 Token。\n",
        "* *段落排序*:\n",
        "  * 如果你提供 `GenerateAnswerRequest.inline_passages`，則段落應以與查詢相關性遞減的順序排序。如果超出模型的上下文長度限制，最後 (最不相關) 的段落將被省略。\n",
        "  * 如果你提供 `GenerateAnswerRequest.semantic_retriever`，則將自動為你執行相關性排序。\n",
        "* *限制*: AQA 模型專門用於問答。對於其他使用案例，例如創意寫作、摘要等，請透過 GenerateContent 呼叫一般用途模型。\n",
        "  * *聊天*: 如果使用者輸入已知是一個問題，可以從特定背景中得到解答，則 AQA 可以回答聊天疑問。但如果使用者輸入的可能是任何類型輸入，則一般用途模型可能是較好的選擇。\n",
        "* *溫度*:\n",
        "  * 通常，建議使用相對較低的溫度 (~0.2) 來執行精確的 AQA。\n",
        "  * 如果你的使用案例依賴於決定性輸出，請將溫度設定為 0。\n"
      ]
    },
    {
      "cell_type": "code",
      "execution_count": null,
      "metadata": {
        "id": "SJr0vi7y_Uho"
      },
      "outputs": [],
      "source": [
        "user_query = \"What is the purpose of Project IDX?\"\n",
        "answer_style = \"ABSTRACTIVE\" # Or VERBOSE, EXTRACTIVE\n",
        "MODEL_NAME = \"models/aqa\"\n",
        "\n",
        "# Make the request\n",
        "# corpus_resource_name is a variable set in the \"Create a corpus\" section.\n",
        "content = glm.Content(parts=[glm.Part(text=user_query)])\n",
        "retriever_config = glm.SemanticRetrieverConfig(source=corpus_resource_name, query=content)\n",
        "req = glm.GenerateAnswerRequest(model=MODEL_NAME,\n",
        "                                contents=[content],\n",
        "                                semantic_retriever=retriever_config,\n",
        "                                answer_style=answer_style)\n",
        "aqa_response = generative_service_client.generate_answer(req)\n",
        "print(aqa_response)"
      ]
    },
    {
      "cell_type": "code",
      "execution_count": null,
      "metadata": {
        "id": "ack_zCIBHGkH"
      },
      "outputs": [],
      "source": [
        "# Get the metadata from the first attributed passages for the source\n",
        "chunk_resource_name = aqa_response.answer.grounding_attributions[0].source_id.semantic_retriever_chunk.chunk\n",
        "get_chunk_response = retriever_service_client.get_chunk(name=chunk_resource_name)\n",
        "print(get_chunk_response)"
      ]
    },
    {
      "cell_type": "markdown",
      "metadata": {
        "id": "wjYUSa_5awjR"
      },
      "source": [
        "### 更多選項：使用內嵌段落 AQA\n",
        "\n",
        "或者，你可以直接使用 AQA 端點，而無需透過傳遞 `inline_passages` 來使用語意檢索 API。\n"
      ]
    },
    {
      "cell_type": "code",
      "execution_count": null,
      "metadata": {
        "id": "AipBQbxqawPO"
      },
      "outputs": [],
      "source": [
        "user_query = \"What is AQA from Google?\"\n",
        "user_query_content = glm.Content(parts=[glm.Part(text=user_query)])\n",
        "answer_style = \"VERBOSE\" # or ABSTRACTIVE, EXTRACTIVE\n",
        "MODEL_NAME = \"models/aqa\"\n",
        "\n",
        "# Create the grounding inline passages\n",
        "grounding_passages = glm.GroundingPassages()\n",
        "passage_a = glm.Content(parts=[glm.Part(text=\"Attributed Question and Answering (AQA) refers to answering questions grounded to a given corpus and providing citation\")])\n",
        "grounding_passages.passages.append(glm.GroundingPassage(content=passage_a, id=\"001\"))\n",
        "passage_b = glm.Content(parts=[glm.Part(text=\"An LLM is not designed to generate content grounded in a set of passages. Although instructing an LLM to answer questions only based on a set of passages reduces hallucination, hallucination still often occurs when LLMs generate responses unsupported by facts provided by passages\")])\n",
        "grounding_passages.passages.append(glm.GroundingPassage(content=passage_b, id=\"002\"))\n",
        "passage_c = glm.Content(parts=[glm.Part(text=\"Hallucination is one of the biggest problems in Large Language Models (LLM) development. Large Language Models (LLMs) could produce responses that are fictitious and incorrect, which significantly impacts the usefulness and trustworthiness of applications built with language models.\")])\n",
        "grounding_passages.passages.append(glm.GroundingPassage(content=passage_c, id=\"003\"))\n",
        "\n",
        "# Create the request\n",
        "req = glm.GenerateAnswerRequest(model=MODEL_NAME,\n",
        "                                contents=[user_query_content],\n",
        "                                inline_passages=grounding_passages,\n",
        "                                answer_style=answer_style)\n",
        "aqa_response = generative_service_client.generate_answer(req)\n",
        "print(aqa_response)"
      ]
    },
    {
      "cell_type": "markdown",
      "metadata": {
        "id": "QMrv_LTJGKGz"
      },
      "source": [
        "## 共享語料庫\n",
        "\n",
        "你可以選擇使用 [`CreatePermissionRequest`](../api/python/google/ai/generativelanguage/CreatePermissionRequest) API 與他人共享語料庫。\n",
        "\n",
        "限制：\n",
        "\n",
        "* 有 2 個共享角色：`READER` 和 `EDITOR`。\n",
        "  * `READER` 可以查詢語料庫。\n",
        "  * `WRITER` 擁有讀取權限，此外還可以編輯和共享語料庫。\n",
        "* 語料庫可以對 `EVERYONE` 授予 `user_type` 讀取權限，使其公開。\n"
      ]
    },
    {
      "cell_type": "code",
      "execution_count": null,
      "metadata": {
        "id": "VCV4UgqUQOdv"
      },
      "outputs": [],
      "source": [
        "# Replace your-email@gmail.com with the email added as a test user in the OAuth Quickstart\n",
        "shared_user_email = \"TODO-your-email@gmail.com\" #  @param {type:\"string\"}\n",
        "user_type = \"USER\"\n",
        "role = \"READER\"\n",
        "\n",
        "# Make the request\n",
        "# corpus_resource_name is a variable set in the \"Create a corpus\" section.\n",
        "request = glm.CreatePermissionRequest(\n",
        "    parent=corpus_resource_name,\n",
        "    permission=glm.Permission(grantee_type=user_type,\n",
        "                              email_address=shared_user_email,\n",
        "                              role=role))\n",
        "create_permission_response = permission_service_client.create_permission(request)\n",
        "print(create_permission_response)"
      ]
    },
    {
      "cell_type": "markdown",
      "metadata": {
        "id": "n7jUXKkZVOjn"
      },
      "source": [
        "## 刪除語料庫\n",
        "\n",
        "使用 [`DeleteCorpusRequest`](../api/python/google/ai/generativelanguage/DeleteCorpusRequest) 刪除使用者語料庫以及所有相關的 `Document` 和 `Chunk`。\n",
        "\n",
        "請注意，非空白語料庫會擲回錯誤，而不會指定 `force=True` 標記。如果你設定 `force=True`，與此 `Document` 相關的任何 `Chunk` 和物件也會被刪除。\n",
        "\n",
        "如果 `force=False` (預設值) 且 `Document` 包含任何 `Chunk`，將會傳回 `FAILED_PRECONDITION` 錯誤訊息。\n"
      ]
    },
    {
      "cell_type": "code",
      "execution_count": null,
      "metadata": {
        "id": "yAKGJwrM0Zs8"
      },
      "outputs": [],
      "source": [
        "# Set force to False if you don't want to delete non-empty corpora.\n",
        "req = glm.DeleteCorpusRequest(name=corpus_resource_name, force=True)\n",
        "delete_corpus_response = retriever_service_client.delete_corpus(req)\n",
        "print(\"Successfully deleted corpus: \" + corpus_resource_name)"
      ]
    },
    {
      "cell_type": "markdown",
      "metadata": {
        "id": "b8kIyLsUVC_Y"
      },
      "source": [
        "## 總結及延伸閱讀\n",
        "\n",
        "本指南介紹了 Generative Language API 的語意檢索器和屬性化問答 (AQA) API，並展示了如何使用它對你的自訂文字資料進行語意資訊檢索。請注意，這個 API 也支援 [LlamaIndex](https://www.llamaindex.ai/){:.external} 資料架構。請參閱 [教學](https://github.com/run-llama/llama_index/blob/main/docs/examples/managed/GoogleDemo.ipynb){:.external} 以進一步瞭解。\n",
        "\n",
        "也請參閱 [API 文件](https://ai.google.dev/api) 以進一步瞭解其他可用的功能。\n"
      ]
    },
    {
      "cell_type": "markdown",
      "metadata": {
        "id": "9YGv4x9ehLba"
      },
      "source": [
        "## 附錄：使用使用者憑證設定 OAuth\n",
        "\n",
        "從 [OAuth 快速入門](https://ai.google.dev/docs/oauth_quickstart) 按照以下步驟設定 OAuth 認證。\n",
        "\n",
        "1. [設定 OAuth 同意畫面](https://ai.google.dev/docs/oauth_quickstart#configure-oauth)。\n",
        "\n",
        "1. [授權桌面應用程式的憑證](https://ai.google.dev/docs/oauth_quickstart#authorize-credentials)。若要在 Colab 中執行這個筆記本，請先將你的憑證檔 (通常為 `client_secret_*.json`) 重新命名為 `client_secret.json`。然後使用左邊側欄上的檔案圖示，再按下上傳圖示，上傳檔案 (如下圖截圖所示)。\n",
        "\n",
        "<img width=400 src=\"https://ai.google.dev/tutorials/images/colab_upload.png\">\n"
      ]
    },
    {
      "cell_type": "code",
      "execution_count": null,
      "metadata": {
        "id": "9C3X6r1dueO4"
      },
      "outputs": [],
      "source": [
        "# Replace TODO-your-project-name with the project used in the OAuth Quickstart\n",
        "project_name = \"TODO-your-project-name\" #  @param {type:\"string\"}\n",
        "# Replace TODO-your-email@gmail.com with the email added as a test user in the OAuth Quickstart\n",
        "email = \"TODO-your-email@gmail.com\" #  @param {type:\"string\"}\n",
        "# Rename the uploaded file to `client_secret.json` OR\n",
        "# Change the variable `client_file_name` in the code below.\n",
        "client_file_name = \"client_secret.json\"\n",
        "\n",
        "# IMPORTANT: Follow the instructions from the output - you must copy the command\n",
        "# to your terminal and copy the output after authentication back here.\n",
        "!gcloud config set project $project_name\n",
        "!gcloud config set account $email\n",
        "\n",
        "# NOTE: The simplified project setup in this tutorial triggers a \"Google hasn't verified this app.\" dialog.\n",
        "# This is normal, click \"Advanced\" -> \"Go to [app name] (unsafe)\"\n",
        "!gcloud auth application-default login --no-browser --client-id-file=$client_file_name --scopes=\"https://www.googleapis.com/auth/generative-language.retriever,https://www.googleapis.com/auth/cloud-platform\""
      ]
    },
    {
      "cell_type": "markdown",
      "metadata": {
        "id": "lybTOlN9gz0I"
      },
      "source": [
        "初始化用戶端資源庫並從 [建立語料庫](#scrollTo=4EQJD2PWD56T) 重新執行筆記本。\n"
      ]
    },
    {
      "cell_type": "code",
      "execution_count": null,
      "metadata": {
        "id": "9MJbDTpMmlKJ"
      },
      "outputs": [],
      "source": [
        "import google.ai.generativelanguage as glm\n",
        "\n",
        "generative_service_client = glm.GenerativeServiceClient()\n",
        "retriever_service_client = glm.RetrieverServiceClient()\n",
        "permission_service_client = glm.PermissionServiceClient()"
      ]
    }
  ],
  "metadata": {
    "colab": {
      "name": "semantic_retriever.ipynb",
      "toc_visible": true
    },
    "google": {
      "image_path": "/site-assets/images/share.png",
      "keywords": [
        "examples",
        "googleai",
        "samplecode",
        "python",
        "embed",
        "aqa"
      ]
    },
    "kernelspec": {
      "display_name": "Python 3",
      "name": "python3"
    }
  },
  "nbformat": 4,
  "nbformat_minor": 0
}