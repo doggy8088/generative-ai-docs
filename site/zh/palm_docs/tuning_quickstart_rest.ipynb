{
  "cells": [
    {
      "cell_type": "markdown",
      "metadata": {
        "id": "Tce3stUlHN0L"
      },
      "source": [
        "##### 版權 2024 Google LLC.\n"
      ]
    },
    {
      "cell_type": "code",
      "execution_count": null,
      "metadata": {
        "cellView": "form",
        "id": "tuOe1ymfHZPu"
      },
      "outputs": [],
      "source": [
        "#@title Licensed under the Apache License, Version 2.0 (the \"License\");\n",
        "# you may not use this file except in compliance with the License.\n",
        "# You may obtain a copy of the License at\n",
        "#\n",
        "# https://www.apache.org/licenses/LICENSE-2.0\n",
        "#\n",
        "# Unless required by applicable law or agreed to in writing, software\n",
        "# distributed under the License is distributed on an \"AS IS\" BASIS,\n",
        "# WITHOUT WARRANTIES OR CONDITIONS OF ANY KIND, either express or implied.\n",
        "# See the License for the specific language governing permissions and\n",
        "# limitations under the License."
      ]
    },
    {
      "cell_type": "markdown",
      "metadata": {
        "id": "yeadDkMiISin"
      },
      "source": [
        "# REST API：調整入門指南\n"
      ]
    },
    {
      "cell_type": "markdown",
      "metadata": {
        "id": "lEXQ3OwKIa-O"
      },
      "source": [
        "<table class=\"tfo-notebook-buttons\" align=\"left\">\n",
        "  <td>\n",
        "    <a target=\"_blank\" href=\"https://ai.google.dev/palm_docs/tuning_quickstart_rest\"><img src=\"https://ai.google.dev/static/site-assets/images/docs/notebook-site-button.png\" height=\"32\" width=\"32\" />在 ai.google.dev 查看</a>\n",
        "  </td>\n",
        "  <td>\n",
        "    <a target=\"_blank\" href=\"https://colab.research.google.com/github/doggy8088/generative-ai-docs/blob/main/site/zh/palm_docs/tuning_quickstart_rest.ipynb\"><img src=\"https://www.tensorflow.org/images/colab_logo_32px.png\" />在 Google Colab 中執行</a>\n",
        "  </td>\n",
        "  <td>\n",
        "    <a target=\"_blank\" href=\"https://github.com/doggy8088/generative-ai-docs/blob/main/site/zh/palm_docs/tuning_quickstart_rest.ipynb\"><img src=\"https://www.tensorflow.org/images/GitHub-Mark-32px.png\" />檢視 GitHub 上的原始程式碼</a>\n",
        "  </td>\n",
        "  <td>\n",
        "    <a target=\"_blank\" href=\"https://ai.google.dev/palm_docs/tuning_quickstart_rest\"><img src=\"https://www.tensorflow.org/images/download_logo_32px.png\" />下載筆記本</a>\n",
        "  </td>\n",
        "</table>\n"
      ]
    },
    {
      "cell_type": "markdown",
      "metadata": {
        "id": "Jp_CKyzxUqx6"
      },
      "source": [
        "在這個筆記本中，你將學習如何使用 curl 命令或 Python request API 開始使用 PaLM API 調校服務來呼叫 PaLM REST API。在此，你將學習如何調校 PaLM API 文本生成服務背後的文本模型。\n"
      ]
    },
    {
      "cell_type": "markdown",
      "metadata": {
        "id": "sCwzzSQqsNys"
      },
      "source": [
        "**注意** ：目前，微調僅提供給`text-bison-001`模型。\n"
      ]
    },
    {
      "cell_type": "markdown",
      "metadata": {
        "id": "PSJSI1n7YNv2"
      },
      "source": [
        "## 設定\n"
      ]
    },
    {
      "cell_type": "markdown",
      "metadata": {
        "id": "SWxKvwd-MSIV"
      },
      "source": [
        "### 驗證\n"
      ]
    },
    {
      "cell_type": "markdown",
      "metadata": {
        "id": "JjS8Zy1ojIgc"
      },
      "source": [
        "PaLM API 讓你調整你自己的資料模型。由於這是你的資料以及你調整的模型，這需要比 API 金鑰更嚴格的存取控制。\n",
        "\n",
        "在你執行這份教學課程前，你需要\n",
        "[為你的專案設定 OAuth](oauth_quickstart.ipynb)。\n",
        "\n",
        "如果你想要在 Colab 上執行這份筆記，先使用「檔案 > 上傳」選項上傳你的\n",
        "`client_secret*.json` 檔案。\n",
        "\n",
        "![Show colab's File > Upload option](https://developers.generativeai.google/tutorials/images/colab_upload.png)\n"
      ]
    },
    {
      "cell_type": "code",
      "execution_count": null,
      "metadata": {
        "id": "JjS834433jIgc"
      },
      "outputs": [
        {
          "name": "stdout",
          "output_type": "stream",
          "text": [
            "client_secret.json"
          ]
        }
      ],
      "source": [
        "!cp client_secret*.json client_secret.json\n",
        "!ls"
      ]
    },
    {
      "cell_type": "markdown",
      "metadata": {
        "id": "I6zTC-3mJ0-2"
      },
      "source": [
        "此 gcloud 指令會將 `client_secret.json` 檔案轉成可對服務進行驗證的認證憑據。\n",
        "\n",
        "重要提示：如果你在 Colab 中執行此操作，**請勿只要按它列印的連結** 。這樣會失敗。請遵照指示，並將它列印的 `gcloud` 指令複製至你的本機電腦上並在該處執行，然後將本機電腦的輸出貼回此處。\n"
      ]
    },
    {
      "cell_type": "code",
      "execution_count": null,
      "metadata": {
        "id": "9FUwyB_MJ0-2"
      },
      "outputs": [],
      "source": [
        "import os\n",
        "if 'COLAB_RELEASE_TAG' in os.environ:\n",
        "  # Use `--no-browser` in colab\n",
        "  !gcloud auth application-default login --no-browser --client-id-file client_secret.json --scopes='https://www.googleapis.com/auth/cloud-platform,https://www.googleapis.com/auth/generative-language.tuning'\n",
        "else:\n",
        "  !gcloud auth application-default login --client-id-file client_secret.json --scopes='https://www.googleapis.com/auth/cloud-platform,https://www.googleapis.com/auth/generative-language.tuning'"
      ]
    },
    {
      "cell_type": "markdown",
      "metadata": {
        "id": "mpe880lfchkp"
      },
      "source": [
        "## 使用 CURL 呼叫 REST API\n"
      ]
    },
    {
      "cell_type": "markdown",
      "metadata": {
        "id": "FaSmQssJaMYV"
      },
      "source": [
        "本節提供範例的 curl 陳述式以呼叫 REST API。你將學習如何建立調整工作、檢查其狀態並且一完成就發出推論呼叫。\n"
      ]
    },
    {
      "cell_type": "markdown",
      "metadata": {
        "id": "g1cQqdypn-Ga"
      },
      "source": [
        "### 設定變數\n"
      ]
    },
    {
      "cell_type": "markdown",
      "metadata": {
        "id": "jrbohImuJFGW"
      },
      "source": [
        "設定變數供重複值在後續其他 REST API 呼叫時使用。程式碼使用 Python `os` 函式庫設定環境變數，可在所有程式碼單元存取。\n",
        "\n",
        "這特定於 Colab notebook 環境。下一個程式碼單元中的程式碼等於在 bash 終端機中執行下列命令。\n",
        "\n",
        "```bash\n",
        "export access_token=$(gcloud auth application-default print-access-token)\n",
        "export project_id=my-project-id\n",
        "export base_url=https://generativelanguage.googleapis.com\n",
        "```\n"
      ]
    },
    {
      "cell_type": "code",
      "execution_count": null,
      "metadata": {
        "id": "5ZUa588km3Lx"
      },
      "outputs": [],
      "source": [
        "import os\n",
        "\n",
        "access_token = !gcloud auth application-default print-access-token\n",
        "access_token = '\\n'.join(access_token)\n",
        "\n",
        "os.environ['access_token'] = access_token\n",
        "os.environ['project_id'] = \"project-id\"\n",
        "os.environ['base_url'] = \"https://generativelanguage.googleapis.com\"\n"
      ]
    },
    {
      "cell_type": "markdown",
      "metadata": {
        "id": "zKeIDL44l7Q9"
      },
      "source": [
        "### 列出已調整模型\n",
        "\n",
        "透過列出目前可用的已調整模型來驗證你的驗證設定。\n"
      ]
    },
    {
      "cell_type": "code",
      "execution_count": null,
      "metadata": {
        "id": "VAqw2D3vYWqm"
      },
      "outputs": [
        {
          "name": "stdout",
          "output_type": "stream",
          "text": [
            "      \"name\": \"tunedModels/testnumbergenerator-fvitocr834l6\",\n",
            "      \"name\": \"tunedModels/my-display-name-81-9wpmc1m920vq\",\n",
            "      \"displayName\": \"my display name 81\",\n",
            "      \"name\": \"tunedModels/number-generator-model-kctlevca1g3q\",\n",
            "      \"name\": \"tunedModels/my-display-name-81-r9wcuda14lyy\",\n",
            "      \"displayName\": \"my display name 81\",\n",
            "      \"name\": \"tunedModels/number-generator-model-w1eabln5adwp\",\n"
          ]
        },
        {
          "name": "stderr",
          "output_type": "stream",
          "text": [
            "  % Total    % Received % Xferd  Average Speed   Time    Time     Time  Current\n",
            "                                 Dload  Upload   Total   Spent    Left  Speed\n",
            "\r",
            "  0     0    0     0    0     0      0      0 --:--:-- --:--:-- --:--:--     0\r",
            "  0     0    0     0    0     0      0      0 --:--:-- --:--:-- --:--:--     0\r",
            "100 17583    0 17583    0     0  51600      0 --:--:-- --:--:-- --:--:-- 51563\n"
          ]
        }
      ],
      "source": [
        "%%bash\n",
        "\n",
        "curl -X GET ${base_url}/v1beta3/tunedModels \\\n",
        "    -H 'Content-Type: application/json' \\\n",
        "    -H \"Authorization: Bearer ${access_token}\" \\\n",
        "    -H \"x-goog-user-project: ${project_id}\" | grep name\n"
      ]
    },
    {
      "cell_type": "markdown",
      "metadata": {
        "id": "t6MN52eRmyjN"
      },
      "source": [
        "### 建立調整過的模型\n",
        "\n",
        "如要建立調整過的模型，你需要在 `training_data` 欄位傳遞資料集給模型。\n",
        "\n",
        "在此例中，你將調整模型以產生序列中的下一個數字。例如，輸入為  \"1\"  時，模型應輸出  \"2\"。輸入為  \"一百\"  時，輸出應為  \"一百零一\"。\n"
      ]
    },
    {
      "cell_type": "code",
      "execution_count": null,
      "metadata": {
        "id": "iBH2NaL6myDN"
      },
      "outputs": [
        {
          "name": "stdout",
          "output_type": "stream",
          "text": [
            "{\n",
            "  \"name\": \"tunedModels/number-generator-model-q2d0uism5ivd/operations/xvyx09sjxlmh\",\n",
            "  \"metadata\": {\n",
            "    \"@type\": \"type.googleapis.com/google.ai.generativelanguage.v1beta3.CreateTunedModelMetadata\",\n",
            "    \"totalSteps\": 23,\n",
            "    \"tunedModel\": \"tunedModels/number-generator-model-q2d0uism5ivd\"\n",
            "  }\n",
            "}\n"
          ]
        },
        {
          "name": "stderr",
          "output_type": "stream",
          "text": [
            "  % Total    % Received % Xferd  Average Speed   Time    Time     Time  Current\n",
            "                                 Dload  Upload   Total   Spent    Left  Speed\n",
            "\r",
            "  0     0    0     0    0     0      0      0 --:--:-- --:--:-- --:--:--     0\r",
            "100  1980    0     0  100  1980      0   1638  0:00:01  0:00:01 --:--:--  1639\r",
            "100  2277    0   297  100  1980    146    975  0:00:02  0:00:02 --:--:--  1121\r",
            "100  2277    0   297  100  1980    146    975  0:00:02  0:00:02 --:--:--  1121\n"
          ]
        }
      ],
      "source": [
        "%%bash\n",
        "\n",
        "curl -X POST ${base_url}/v1beta3/tunedModels \\\n",
        "    -H 'Content-Type: application/json' \\\n",
        "    -H \"Authorization: Bearer ${access_token}\" \\\n",
        "    -H \"x-goog-user-project: ${project_id}\" \\\n",
        "    -d '\n",
        "      {\n",
        "        \"display_name\": \"number generator model\",\n",
        "        \"base_model\": \"models/text-bison-001\",\n",
        "        \"tuning_task\": {\n",
        "          \"hyperparameters\": {\n",
        "            \"batch_size\": 2,\n",
        "            \"learning_rate\": 0.001,\n",
        "            \"epoch_count\":3,\n",
        "          },\n",
        "          \"training_data\": {\n",
        "            \"examples\": {\n",
        "              \"examples\": [\n",
        "                {\n",
        "                    \"text_input\": \"1\",\n",
        "                    \"output\": \"2\",\n",
        "                },{\n",
        "                    \"text_input\": \"3\",\n",
        "                    \"output\": \"4\",\n",
        "                },{\n",
        "                    \"text_input\": \"-3\",\n",
        "                    \"output\": \"-2\",\n",
        "                },{\n",
        "                    \"text_input\": \"twenty two\",\n",
        "                    \"output\": \"twenty three\",\n",
        "                },{\n",
        "                    \"text_input\": \"two hundred\",\n",
        "                    \"output\": \"two hundred one\",\n",
        "                },{\n",
        "                    \"text_input\": \"ninety nine\",\n",
        "                    \"output\": \"one hundred\",\n",
        "                },{\n",
        "                    \"text_input\": \"8\",\n",
        "                    \"output\": \"9\",\n",
        "                },{\n",
        "                    \"text_input\": \"-98\",\n",
        "                    \"output\": \"-97\",\n",
        "                },{\n",
        "                    \"text_input\": \"1,000\",\n",
        "                    \"output\": \"1,001\",\n",
        "                },{\n",
        "                    \"text_input\": \"10,100,000\",\n",
        "                    \"output\": \"10,100,001\",\n",
        "                },{\n",
        "                    \"text_input\": \"thirteen\",\n",
        "                    \"output\": \"fourteen\",\n",
        "                },{\n",
        "                    \"text_input\": \"eighty\",\n",
        "                    \"output\": \"eighty one\",\n",
        "                },{\n",
        "                    \"text_input\": \"one\",\n",
        "                    \"output\": \"two\",\n",
        "                },{\n",
        "                    \"text_input\": \"three\",\n",
        "                    \"output\": \"four\",\n",
        "                },{\n",
        "                    \"text_input\": \"seven\",\n",
        "                    \"output\": \"eight\",\n",
        "                }\n",
        "              ]\n",
        "            }\n",
        "          }\n",
        "        }\n",
        "      }' | tee tunemodel.json\n"
      ]
    },
    {
      "cell_type": "markdown",
      "metadata": {
        "id": "Ad5ZWb_rmAst"
      },
      "source": [
        "### 取得已調整的模型狀態\n"
      ]
    },
    {
      "cell_type": "markdown",
      "metadata": {
        "id": "4hre6xAdrRyS"
      },
      "source": [
        "在訓練期間，模型狀態設定為 `CREATING`，一旦完成將變更為 `ACTIVE`。\n",
        "\n",
        "以下是少量的 python 程式碼，用於從回應 JSON 中分析產生的模型名稱。如果你在終端機執行這項工作，你可以嘗試使用 bash JSON parser 來分析回應。\n"
      ]
    },
    {
      "cell_type": "code",
      "execution_count": null,
      "metadata": {
        "id": "BVs6r1j2YIuv"
      },
      "outputs": [
        {
          "name": "stdout",
          "output_type": "stream",
          "text": [
            "tunedModels/number-generator-model-q2d0uism5ivd\n"
          ]
        }
      ],
      "source": [
        "import json\n",
        "\n",
        "first_page = json.load(open('tunemodel.json'))\n",
        "os.environ['modelname'] = first_page['metadata']['tunedModel']\n",
        "\n",
        "print(os.environ['modelname'])\n"
      ]
    },
    {
      "cell_type": "markdown",
      "metadata": {
        "id": "I1urOyFnd7_N"
      },
      "source": [
        "使用模型名稱執行另一個 `GET` 要求以取得模型中繼資料，其中包含狀態欄位。\n"
      ]
    },
    {
      "cell_type": "code",
      "execution_count": null,
      "metadata": {
        "id": "6MdwY7duYmYL"
      },
      "outputs": [
        {
          "name": "stdout",
          "output_type": "stream",
          "text": [
            "  \"state\": \"CREATING\",\n"
          ]
        },
        {
          "name": "stderr",
          "output_type": "stream",
          "text": [
            "  % Total    % Received % Xferd  Average Speed   Time    Time     Time  Current\n",
            "                                 Dload  Upload   Total   Spent    Left  Speed\n",
            "\r",
            "  0     0    0     0    0     0      0      0 --:--:-- --:--:-- --:--:--     0\r",
            "100   494    0   494    0     0    761      0 --:--:-- --:--:-- --:--:--   761\r",
            "100   494    0   494    0     0    760      0 --:--:-- --:--:-- --:--:--   760\n",
            "curl: (3) URL using bad/illegal format or missing URL\n"
          ]
        }
      ],
      "source": [
        "%%bash\n",
        "\n",
        "curl -X GET ${base_url}/v1beta3/${modelname} \\\n",
        "    -H 'Content-Type: application/json' \\\n",
        "    -H \"Authorization: Bearer ${access_token}\" \\\n",
        "    -H \"x-goog-user-project: ${project_id}\" \\ | grep state\n"
      ]
    },
    {
      "cell_type": "markdown",
      "metadata": {
        "id": "Qg8_cgelayQ5"
      },
      "source": [
        "### 執行推理\n",
        "\n",
        "一旦你的調整工作完成，你可以用它來使用文字服務產生文字。\n"
      ]
    },
    {
      "cell_type": "code",
      "execution_count": null,
      "metadata": {
        "id": "15ndxGP_cNBp"
      },
      "outputs": [
        {
          "name": "stdout",
          "output_type": "stream",
          "text": [
            "      \"output\": \"3 2 1\",\n",
            "      \"output\": \"3 2\",\n"
          ]
        },
        {
          "name": "stderr",
          "output_type": "stream",
          "text": [
            "  % Total    % Received % Xferd  Average Speed   Time    Time     Time  Current\n",
            "                                 Dload  Upload   Total   Spent    Left  Speed\n",
            "\r",
            "  0     0    0     0    0     0      0      0 --:--:-- --:--:-- --:--:--     0\r",
            "100   122    0     0  100   122      0    595 --:--:-- --:--:-- --:--:--   595\r",
            "100   122    0     0  100   122      0    101  0:00:01  0:00:01 --:--:--   101\r",
            "100   122    0     0  100   122      0     55  0:00:02  0:00:02 --:--:--    55\r",
            "100   122    0     0  100   122      0     38  0:00:03  0:00:03 --:--:--    37\r",
            "100   122    0     0  100   122      0     28  0:00:04  0:00:04 --:--:--    28\r",
            "100   122    0     0  100   122      0     23  0:00:05  0:00:05 --:--:--     0\r",
            "100   122    0     0  100   122      0     19  0:00:06  0:00:06 --:--:--     0\r",
            "100   122    0     0  100   122      0     16  0:00:07  0:00:07 --:--:--     0\r",
            "100  1569    0  1447  100   122    183     15  0:00:08  0:00:07  0:00:01   310\n"
          ]
        }
      ],
      "source": [
        "%%bash\n",
        "\n",
        "curl -X POST ${base_url}/v1beta3/${modelname}:generateText \\\n",
        "    -H 'Content-Type: application/json' \\\n",
        "    -H \"Authorization: Bearer ${access_token}\" \\\n",
        "    -H \"x-goog-user-project: ${project_id}\" \\\n",
        "    -d '{\n",
        "        \"prompt\": {\n",
        "              \"text\": \"4\"\n",
        "              },\n",
        "        \"temperature\": 1.0,\n",
        "        \"candidate_count\": 2}' | grep output"
      ]
    },
    {
      "cell_type": "markdown",
      "metadata": {
        "id": "r2zvbGFYeR18"
      },
      "source": [
        "模型的輸出可能正確或不正確。如果調校過的模型未達到你的要求標準，你可以嘗試新增更多高品質範例、調整超參數或為你的範例新增前導文字。你甚至可以根據你建立的第一個範例建立另一個調校過後的模型。\n",
        "\n",
        "請參閱 [調校指南](../guide/model_tuning_guidance) 以取得更多提高效能的指南。\n"
      ]
    },
    {
      "cell_type": "markdown",
      "metadata": {
        "id": "fHWwC2dqXYUb"
      },
      "source": [
        "## 使用 Python requests 呼叫 REST API\n",
        "\n",
        "你可以使用允許你傳送 http 要求的任何函式庫呼叫 rest API。\n",
        "下一組範例使用 Python requests 函式庫，並展示更進階功能。\n"
      ]
    },
    {
      "cell_type": "markdown",
      "metadata": {
        "id": "jZ0jOtfwaxU9"
      },
      "source": [
        "### 設定變數\n"
      ]
    },
    {
      "cell_type": "code",
      "execution_count": null,
      "metadata": {
        "id": "a_QXMiSlav_F"
      },
      "outputs": [],
      "source": [
        "access_token = !gcloud auth application-default print-access-token\n",
        "access_token = '\\n'.join(access_token)\n",
        "\n",
        "project = 'project-id'\n",
        "base_url = \"https://generativelanguage.googleapis.com\"\n"
      ]
    },
    {
      "cell_type": "markdown",
      "metadata": {
        "id": "ZWjmINASa-Tg"
      },
      "source": [
        "匯入`requests`函式庫。\n"
      ]
    },
    {
      "cell_type": "code",
      "execution_count": null,
      "metadata": {
        "id": "QyjlnDjhYWoe"
      },
      "outputs": [],
      "source": [
        "import requests\n",
        "import json"
      ]
    },
    {
      "cell_type": "markdown",
      "metadata": {
        "id": "CPtF6TiUhRr2"
      },
      "source": [
        "### 列出已調整模型\n",
        "\n",
        "透過列出目前可用的已調整模型來驗證你的驗證設定。\n"
      ]
    },
    {
      "cell_type": "code",
      "execution_count": null,
      "metadata": {
        "id": "r44T32P8ZiH4"
      },
      "outputs": [],
      "source": [
        "headers={\n",
        "  'Authorization': 'Bearer ' + access_token,\n",
        "  'Content-Type': 'application/json',\n",
        "  'x-goog-user-project': project\n",
        "}\n",
        "\n",
        "result = requests.get(\n",
        "  url=f'{base_url}/v1beta3/tunedModels',\n",
        "  headers = headers,\n",
        ")"
      ]
    },
    {
      "cell_type": "code",
      "execution_count": null,
      "metadata": {
        "id": "rC8lDO8uh1PY"
      },
      "outputs": [
        {
          "data": {
            "text/plain": [
              "{'tunedModels': [{'name': 'tunedModels/testnumbergenerator-fvitocr834l6',\n",
              "   'baseModel': 'models/text-bison-001',\n",
              "   'displayName': 'test_number_generator',\n",
              "   'description': '{\"description\":\"generates the  next number in the sequence given the input text\",\"exampleInput\":\"input: 1\",\"exampleOutput\":\"output: 2\",\"datasourceUrl\":\"https://drive.google.com/open?id=11Pdm6GNom4vlBMUHwO6yFjGQT3t1yi44WVShXMFnkVA&authuser=0&resourcekey=0-2d17tccbdBoThXMkNDvtag\",\"showedTuningComplete\":false}',\n",
              "   'state': 'ACTIVE',\n",
              "   'createTime': '2023-09-18T11:06:39.092786Z',\n",
              "   'updateTime': '2023-09-18T11:07:24.198359Z',\n",
              "   'tuningTask': {'startTime': '2023-09-18T11:06:39.461814784Z',\n",
              "    'completeTime': '2023-09-18T11:07:24.198359Z',\n",
              "    'snapshots': [{'step': 1,\n",
              "      'meanLoss': 16.613504,\n",
              "      'computeTime': '2023-09-18T11:06:44.532937624Z'},\n",
              "     {'step': 2,\n",
              "      'epoch': 1,\n",
              "      'meanLoss': 20.299532,\n",
              "      'computeTime': '2023-09-18T11:06:47.825134421Z'},\n",
              "     {'step': 3,\n",
              "      'epoch': 1,\n",
              "      'meanLoss': 8.169708,\n",
              "      'computeTime': '2023-09-18T11:06:50.580344344Z'},\n",
              "     {'step': 4,\n",
              "      'epoch': 2,\n",
              "      'meanLoss': 3.7588992,\n",
              "      'computeTime': '2023-09-18T11:06:53.219133748Z'},\n",
              "     {'step': 5,\n",
              "      'epoch': 3,\n",
              "      'meanLoss': 2.0643115,\n",
              "      'computeTime': '2023-09-18T11:06:55.828458606Z'},\n",
              "     {'step': 6,\n",
              "      'epoch': 3,\n",
              "      'meanLoss': 1.9765375,\n",
              "      'computeTime': '2023-09-18T11:06:58.426053772Z'},\n",
              "     {'step': 7,\n",
              "      'epoch': 4,\n",
              "      'meanLoss': 0.9276156,\n",
              "      'computeTime': '2023-09-18T11:07:01.231832398Z'},\n",
              "     {'step': 8,\n",
              "      'epoch': 5,\n",
              "      'meanLoss': 1.8424839,\n",
              "      'computeTime': '2023-09-18T11:07:03.822710074Z'},\n",
              "     {'step': 9,\n",
              "      'epoch': 5,\n",
              "      'meanLoss': 1.1747926,\n",
              "      'computeTime': '2023-09-18T11:07:06.441685551Z'},\n",
              "     {'step': 10,\n",
              "      'epoch': 6,\n",
              "      'meanLoss': 0.3079359,\n",
              "      'computeTime': '2023-09-18T11:07:08.793491157Z'},\n",
              "     {'step': 11,\n",
              "      'epoch': 7,\n",
              "      'meanLoss': 0.543368,\n",
              "      'computeTime': '2023-09-18T11:07:11.393264892Z'},\n",
              "     {'step': 12,\n",
              "      'epoch': 7,\n",
              "      'meanLoss': 0.35068464,\n",
              "      'computeTime': '2023-09-18T11:07:13.808021238Z'},\n",
              "     {'step': 13,\n",
              "      'epoch': 8,\n",
              "      'meanLoss': 0.026032856,\n",
              "      'computeTime': '2023-09-18T11:07:16.295972078Z'},\n",
              "     {'step': 14,\n",
              "      'epoch': 8,\n",
              "      'meanLoss': 0.108341046,\n",
              "      'computeTime': '2023-09-18T11:07:18.941247488Z'},\n",
              "     {'step': 15,\n",
              "      'epoch': 9,\n",
              "      'meanLoss': 0.016470395,\n",
              "      'computeTime': '2023-09-18T11:07:21.607654306Z'},\n",
              "     {'step': 16,\n",
              "      'epoch': 10,\n",
              "      'meanLoss': 0.063049875,\n",
              "      'computeTime': '2023-09-18T11:07:24.077271307Z'}],\n",
              "    'hyperparameters': {'epochCount': 10,\n",
              "     'batchSize': 16,\n",
              "     'learningRate': 0.02}},\n",
              "   'temperature': 0.7,\n",
              "   'topP': 0.95,\n",
              "   'topK': 40},\n",
              "  {'name': 'tunedModels/my-display-name-81-9wpmc1m920vq',\n",
              "   'baseModel': 'models/text-bison-tuning-test',\n",
              "   'displayName': 'my display name 81',\n",
              "   'state': 'ACTIVE',\n",
              "   'createTime': '2023-09-18T22:02:08.690991Z',\n",
              "   'updateTime': '2023-09-18T22:02:28.806318Z',\n",
              "   'tuningTask': {'startTime': '2023-09-18T22:02:09.161100369Z',\n",
              "    'completeTime': '2023-09-18T22:02:28.806318Z',\n",
              "    'snapshots': [{'step': 1,\n",
              "      'meanLoss': 7.2774773,\n",
              "      'computeTime': '2023-09-18T22:02:12.453056368Z'},\n",
              "     {'step': 2,\n",
              "      'meanLoss': 6.1902447,\n",
              "      'computeTime': '2023-09-18T22:02:13.789508217Z'},\n",
              "     {'step': 3,\n",
              "      'meanLoss': 5.5545835,\n",
              "      'computeTime': '2023-09-18T22:02:15.136220505Z'},\n",
              "     {'step': 4,\n",
              "      'epoch': 1,\n",
              "      'meanLoss': 7.9237704,\n",
              "      'computeTime': '2023-09-18T22:02:16.474358517Z'},\n",
              "     {'step': 5,\n",
              "      'epoch': 1,\n",
              "      'meanLoss': 7.6770706,\n",
              "      'computeTime': '2023-09-18T22:02:17.758261108Z'},\n",
              "     {'step': 6,\n",
              "      'epoch': 1,\n",
              "      'meanLoss': 7.378622,\n",
              "      'computeTime': '2023-09-18T22:02:19.114072224Z'},\n",
              "     {'step': 7,\n",
              "      'epoch': 1,\n",
              "      'meanLoss': 4.485537,\n",
              "      'computeTime': '2023-09-18T22:02:20.927434115Z'},\n",
              "     {'step': 8,\n",
              "      'epoch': 2,\n",
              "      'meanLoss': 6.815181,\n",
              "      'computeTime': '2023-09-18T22:02:22.267906011Z'},\n",
              "     {'step': 9,\n",
              "      'epoch': 2,\n",
              "      'meanLoss': 6.411363,\n",
              "      'computeTime': '2023-09-18T22:02:24.078114085Z'},\n",
              "     {'step': 10,\n",
              "      'epoch': 2,\n",
              "      'meanLoss': 8.585093,\n",
              "      'computeTime': '2023-09-18T22:02:25.441598938Z'},\n",
              "     {'step': 11,\n",
              "      'epoch': 2,\n",
              "      'meanLoss': 4.901249,\n",
              "      'computeTime': '2023-09-18T22:02:27.108985392Z'},\n",
              "     {'step': 12,\n",
              "      'epoch': 3,\n",
              "      'meanLoss': 7.073003,\n",
              "      'computeTime': '2023-09-18T22:02:28.441662034Z'}],\n",
              "    'hyperparameters': {'epochCount': 3,\n",
              "     'batchSize': 4,\n",
              "     'learningRate': 0.001}},\n",
              "   'temperature': 0.7,\n",
              "   'topP': 0.95,\n",
              "   'topK': 40},\n",
              "  {'name': 'tunedModels/number-generator-model-kctlevca1g3q',\n",
              "   'baseModel': 'models/text-bison-tuning-test',\n",
              "   'displayName': 'number generator model',\n",
              "   'state': 'ACTIVE',\n",
              "   'createTime': '2023-09-18T23:43:21.461545Z',\n",
              "   'updateTime': '2023-09-18T23:43:49.205493Z',\n",
              "   'tuningTask': {'startTime': '2023-09-18T23:43:21.542403958Z',\n",
              "    'completeTime': '2023-09-18T23:43:49.205493Z',\n",
              "    'snapshots': [{'step': 1,\n",
              "      'meanLoss': 7.342065,\n",
              "      'computeTime': '2023-09-18T23:43:23.356271969Z'},\n",
              "     {'step': 2,\n",
              "      'meanLoss': 7.255807,\n",
              "      'computeTime': '2023-09-18T23:43:24.620248223Z'},\n",
              "     {'step': 3,\n",
              "      'meanLoss': 5.4591417,\n",
              "      'computeTime': '2023-09-18T23:43:25.854505395Z'},\n",
              "     {'step': 4,\n",
              "      'meanLoss': 6.968665,\n",
              "      'computeTime': '2023-09-18T23:43:27.138260198Z'},\n",
              "     {'step': 5,\n",
              "      'meanLoss': 4.578809,\n",
              "      'computeTime': '2023-09-18T23:43:28.404943274Z'},\n",
              "     {'step': 6,\n",
              "      'meanLoss': 6.4862137,\n",
              "      'computeTime': '2023-09-18T23:43:29.631624883Z'},\n",
              "     {'step': 7,\n",
              "      'meanLoss': 9.781939,\n",
              "      'computeTime': '2023-09-18T23:43:30.801341449Z'},\n",
              "     {'step': 8,\n",
              "      'epoch': 1,\n",
              "      'meanLoss': 5.990006,\n",
              "      'computeTime': '2023-09-18T23:43:31.854703315Z'},\n",
              "     {'step': 9,\n",
              "      'epoch': 1,\n",
              "      'meanLoss': 8.846312,\n",
              "      'computeTime': '2023-09-18T23:43:33.075785103Z'},\n",
              "     {'step': 10,\n",
              "      'epoch': 1,\n",
              "      'meanLoss': 6.1585655,\n",
              "      'computeTime': '2023-09-18T23:43:34.310432174Z'},\n",
              "     {'step': 11,\n",
              "      'epoch': 1,\n",
              "      'meanLoss': 4.7877502,\n",
              "      'computeTime': '2023-09-18T23:43:35.381582526Z'},\n",
              "     {'step': 12,\n",
              "      'epoch': 1,\n",
              "      'meanLoss': 9.660514,\n",
              "      'computeTime': '2023-09-18T23:43:36.445446408Z'},\n",
              "     {'step': 13,\n",
              "      'epoch': 1,\n",
              "      'meanLoss': 5.6482882,\n",
              "      'computeTime': '2023-09-18T23:43:37.603237821Z'},\n",
              "     {'step': 14,\n",
              "      'epoch': 1,\n",
              "      'meanLoss': 3.162092,\n",
              "      'computeTime': '2023-09-18T23:43:38.671463397Z'},\n",
              "     {'step': 15,\n",
              "      'epoch': 2,\n",
              "      'meanLoss': 6.322996,\n",
              "      'computeTime': '2023-09-18T23:43:39.769742201Z'},\n",
              "     {'step': 16,\n",
              "      'epoch': 2,\n",
              "      'meanLoss': 6.781,\n",
              "      'computeTime': '2023-09-18T23:43:40.985967994Z'},\n",
              "     {'step': 17,\n",
              "      'epoch': 2,\n",
              "      'meanLoss': 5.136773,\n",
              "      'computeTime': '2023-09-18T23:43:42.235469710Z'},\n",
              "     {'step': 18,\n",
              "      'epoch': 2,\n",
              "      'meanLoss': 7.2091155,\n",
              "      'computeTime': '2023-09-18T23:43:43.415178581Z'},\n",
              "     {'step': 19,\n",
              "      'epoch': 2,\n",
              "      'meanLoss': 7.7508755,\n",
              "      'computeTime': '2023-09-18T23:43:44.775221774Z'},\n",
              "     {'step': 20,\n",
              "      'epoch': 2,\n",
              "      'meanLoss': 8.144815,\n",
              "      'computeTime': '2023-09-18T23:43:45.788824334Z'},\n",
              "     {'step': 21,\n",
              "      'epoch': 2,\n",
              "      'meanLoss': 5.485137,\n",
              "      'computeTime': '2023-09-18T23:43:46.812663998Z'},\n",
              "     {'step': 22,\n",
              "      'epoch': 2,\n",
              "      'meanLoss': 3.709197,\n",
              "      'computeTime': '2023-09-18T23:43:47.971764087Z'},\n",
              "     {'step': 23,\n",
              "      'epoch': 3,\n",
              "      'meanLoss': 6.0069466,\n",
              "      'computeTime': '2023-09-18T23:43:49.004191079Z'}],\n",
              "    'hyperparameters': {'epochCount': 3,\n",
              "     'batchSize': 2,\n",
              "     'learningRate': 0.001}},\n",
              "   'temperature': 0.7,\n",
              "   'topP': 0.95,\n",
              "   'topK': 40},\n",
              "  {'name': 'tunedModels/my-display-name-81-r9wcuda14lyy',\n",
              "   'baseModel': 'models/text-bison-tuning-test',\n",
              "   'displayName': 'my display name 81',\n",
              "   'state': 'ACTIVE',\n",
              "   'createTime': '2023-09-18T23:52:06.980185Z',\n",
              "   'updateTime': '2023-09-18T23:52:26.679601Z',\n",
              "   'tuningTask': {'startTime': '2023-09-18T23:52:07.616953503Z',\n",
              "    'completeTime': '2023-09-18T23:52:26.679601Z',\n",
              "    'snapshots': [{'step': 1,\n",
              "      'meanLoss': 7.2774773,\n",
              "      'computeTime': '2023-09-18T23:52:10.278936662Z'},\n",
              "     {'step': 2,\n",
              "      'meanLoss': 6.2793097,\n",
              "      'computeTime': '2023-09-18T23:52:11.630844790Z'},\n",
              "     {'step': 3,\n",
              "      'meanLoss': 5.540499,\n",
              "      'computeTime': '2023-09-18T23:52:13.027840389Z'},\n",
              "     {'step': 4,\n",
              "      'epoch': 1,\n",
              "      'meanLoss': 7.977523,\n",
              "      'computeTime': '2023-09-18T23:52:14.368199020Z'},\n",
              "     {'step': 5,\n",
              "      'epoch': 1,\n",
              "      'meanLoss': 7.6197805,\n",
              "      'computeTime': '2023-09-18T23:52:15.872428752Z'},\n",
              "     {'step': 6,\n",
              "      'epoch': 1,\n",
              "      'meanLoss': 7.3851357,\n",
              "      'computeTime': '2023-09-18T23:52:17.213094182Z'},\n",
              "     {'step': 7,\n",
              "      'epoch': 1,\n",
              "      'meanLoss': 4.5342345,\n",
              "      'computeTime': '2023-09-18T23:52:19.090698421Z'},\n",
              "     {'step': 8,\n",
              "      'epoch': 2,\n",
              "      'meanLoss': 6.8603754,\n",
              "      'computeTime': '2023-09-18T23:52:20.494844731Z'},\n",
              "     {'step': 9,\n",
              "      'epoch': 2,\n",
              "      'meanLoss': 6.418575,\n",
              "      'computeTime': '2023-09-18T23:52:21.815997555Z'},\n",
              "     {'step': 10,\n",
              "      'epoch': 2,\n",
              "      'meanLoss': 8.659064,\n",
              "      'computeTime': '2023-09-18T23:52:23.524287192Z'},\n",
              "     {'step': 11,\n",
              "      'epoch': 2,\n",
              "      'meanLoss': 4.856765,\n",
              "      'computeTime': '2023-09-18T23:52:24.864661291Z'},\n",
              "     {'step': 12,\n",
              "      'epoch': 3,\n",
              "      'meanLoss': 7.1078596,\n",
              "      'computeTime': '2023-09-18T23:52:26.225055381Z'}],\n",
              "    'hyperparameters': {'epochCount': 3,\n",
              "     'batchSize': 4,\n",
              "     'learningRate': 0.001}},\n",
              "   'temperature': 0.7,\n",
              "   'topP': 0.95,\n",
              "   'topK': 40},\n",
              "  {'name': 'tunedModels/number-generator-model-w1eabln5adwp',\n",
              "   'baseModel': 'models/text-bison-tuning-test',\n",
              "   'displayName': 'number generator model',\n",
              "   'state': 'ACTIVE',\n",
              "   'createTime': '2023-09-19T19:29:08.622497Z',\n",
              "   'updateTime': '2023-09-19T19:29:46.063853Z',\n",
              "   'tuningTask': {'startTime': '2023-09-19T19:29:08.806930486Z',\n",
              "    'completeTime': '2023-09-19T19:29:46.063853Z',\n",
              "    'snapshots': [{'step': 1,\n",
              "      'meanLoss': 7.342065,\n",
              "      'computeTime': '2023-09-19T19:29:13.023811994Z'},\n",
              "     {'step': 2,\n",
              "      'meanLoss': 7.1960244,\n",
              "      'computeTime': '2023-09-19T19:29:14.844046282Z'},\n",
              "     {'step': 3,\n",
              "      'meanLoss': 5.480289,\n",
              "      'computeTime': '2023-09-19T19:29:16.596884354Z'},\n",
              "     {'step': 4,\n",
              "      'meanLoss': 6.851822,\n",
              "      'computeTime': '2023-09-19T19:29:17.741735378Z'},\n",
              "     {'step': 5,\n",
              "      'meanLoss': 4.5535283,\n",
              "      'computeTime': '2023-09-19T19:29:18.914760812Z'},\n",
              "     {'step': 6,\n",
              "      'meanLoss': 6.449012,\n",
              "      'computeTime': '2023-09-19T19:29:20.053316042Z'},\n",
              "     {'step': 7,\n",
              "      'meanLoss': 9.842458,\n",
              "      'computeTime': '2023-09-19T19:29:21.371286675Z'},\n",
              "     {'step': 8,\n",
              "      'epoch': 1,\n",
              "      'meanLoss': 5.9831877,\n",
              "      'computeTime': '2023-09-19T19:29:22.915277044Z'},\n",
              "     {'step': 9,\n",
              "      'epoch': 1,\n",
              "      'meanLoss': 8.936815,\n",
              "      'computeTime': '2023-09-19T19:29:24.666461680Z'},\n",
              "     {'step': 10,\n",
              "      'epoch': 1,\n",
              "      'meanLoss': 6.14651,\n",
              "      'computeTime': '2023-09-19T19:29:26.793310451Z'},\n",
              "     {'step': 11,\n",
              "      'epoch': 1,\n",
              "      'meanLoss': 4.853589,\n",
              "      'computeTime': '2023-09-19T19:29:28.328297535Z'},\n",
              "     {'step': 12,\n",
              "      'epoch': 1,\n",
              "      'meanLoss': 9.6831045,\n",
              "      'computeTime': '2023-09-19T19:29:29.501236840Z'},\n",
              "     {'step': 13,\n",
              "      'epoch': 1,\n",
              "      'meanLoss': 5.706586,\n",
              "      'computeTime': '2023-09-19T19:29:30.612807978Z'},\n",
              "     {'step': 14,\n",
              "      'epoch': 1,\n",
              "      'meanLoss': 3.276942,\n",
              "      'computeTime': '2023-09-19T19:29:31.928747103Z'},\n",
              "     {'step': 15,\n",
              "      'epoch': 2,\n",
              "      'meanLoss': 6.1736736,\n",
              "      'computeTime': '2023-09-19T19:29:33.588699180Z'},\n",
              "     {'step': 16,\n",
              "      'epoch': 2,\n",
              "      'meanLoss': 6.857398,\n",
              "      'computeTime': '2023-09-19T19:29:35.239083809Z'},\n",
              "     {'step': 17,\n",
              "      'epoch': 2,\n",
              "      'meanLoss': 5.098094,\n",
              "      'computeTime': '2023-09-19T19:29:37.000705047Z'},\n",
              "     {'step': 18,\n",
              "      'epoch': 2,\n",
              "      'meanLoss': 7.27724,\n",
              "      'computeTime': '2023-09-19T19:29:38.532313231Z'},\n",
              "     {'step': 19,\n",
              "      'epoch': 2,\n",
              "      'meanLoss': 7.6310735,\n",
              "      'computeTime': '2023-09-19T19:29:39.696034301Z'},\n",
              "     {'step': 20,\n",
              "      'epoch': 2,\n",
              "      'meanLoss': 8.152623,\n",
              "      'computeTime': '2023-09-19T19:29:40.803342042Z'},\n",
              "     {'step': 21,\n",
              "      'epoch': 2,\n",
              "      'meanLoss': 5.451577,\n",
              "      'computeTime': '2023-09-19T19:29:42.445788199Z'},\n",
              "     {'step': 22,\n",
              "      'epoch': 2,\n",
              "      'meanLoss': 3.7990716,\n",
              "      'computeTime': '2023-09-19T19:29:43.866737307Z'},\n",
              "     {'step': 23,\n",
              "      'epoch': 3,\n",
              "      'meanLoss': 6.120624,\n",
              "      'computeTime': '2023-09-19T19:29:45.599248553Z'}],\n",
              "    'hyperparameters': {'epochCount': 3,\n",
              "     'batchSize': 2,\n",
              "     'learningRate': 0.001}},\n",
              "   'temperature': 0.7,\n",
              "   'topP': 0.95,\n",
              "   'topK': 40}]}"
            ]
          },
          "execution_count": 20,
          "metadata": {},
          "output_type": "execute_result"
        }
      ],
      "source": [
        "result.json()"
      ]
    },
    {
      "cell_type": "markdown",
      "metadata": {
        "id": "Ht_JVuo7hU8n"
      },
      "source": [
        "### 建立調整過的模型\n"
      ]
    },
    {
      "cell_type": "markdown",
      "metadata": {
        "id": "B4KrCiYITzXy"
      },
      "source": [
        "與 Curl 範例相同，你透過 `training_data` 欄位傳入資料集。\n"
      ]
    },
    {
      "cell_type": "code",
      "execution_count": null,
      "metadata": {
        "id": "hh4gcz6aaDzA"
      },
      "outputs": [],
      "source": [
        "operation = requests.post(\n",
        "    url = f'{base_url}/v1beta3/tunedModels',\n",
        "    headers=headers,\n",
        "    json= {\n",
        "        \"display_name\": \"number generator\",\n",
        "        \"base_model\": \"models/text-bison-001\",\n",
        "        \"tuning_task\": {\n",
        "          \"hyperparameters\": {\n",
        "            \"batch_size\": 4,\n",
        "            \"learning_rate\": 0.001,\n",
        "            \"epoch_count\":3,\n",
        "          },\n",
        "          \"training_data\": {\n",
        "            \"examples\": {\n",
        "              \"examples\": [\n",
        "                {\n",
        "                    'text_input': '1',\n",
        "                    'output': '2',\n",
        "                },{\n",
        "                    'text_input': '3',\n",
        "                    'output': '4',\n",
        "                },{\n",
        "                    'text_input': '-3',\n",
        "                    'output': '-2',\n",
        "                },{\n",
        "                    'text_input': 'twenty two',\n",
        "                    'output': 'twenty three',\n",
        "                },{\n",
        "                    'text_input': 'two hundred',\n",
        "                    'output': 'two hundred one',\n",
        "                },{\n",
        "                    'text_input': 'ninety nine',\n",
        "                    'output': 'one hundred',\n",
        "                },{\n",
        "                    'text_input': '8',\n",
        "                    'output': '9',\n",
        "                },{\n",
        "                    'text_input': '-98',\n",
        "                    'output': '-97',\n",
        "                },{\n",
        "                    'text_input': '1,000',\n",
        "                    'output': '1,001',\n",
        "                },{\n",
        "                    'text_input': '10,100,000',\n",
        "                    'output': '10,100,001',\n",
        "                },{\n",
        "                    'text_input': 'thirteen',\n",
        "                    'output': 'fourteen',\n",
        "                },{\n",
        "                    'text_input': 'eighty',\n",
        "                    'output': 'eighty one',\n",
        "                },{\n",
        "                    'text_input': 'one',\n",
        "                    'output': 'two',\n",
        "                },{\n",
        "                    'text_input': 'three',\n",
        "                    'output': 'four',\n",
        "                },{\n",
        "                    'text_input': 'seven',\n",
        "                    'output': 'eight',\n",
        "                }\n",
        "              ]\n",
        "            }\n",
        "          }\n",
        "        }\n",
        "      }\n",
        ")"
      ]
    },
    {
      "cell_type": "code",
      "execution_count": null,
      "metadata": {
        "id": "6cMp2okEnIKR"
      },
      "outputs": [
        {
          "data": {
            "text/plain": [
              "<Response [200]>"
            ]
          },
          "execution_count": 40,
          "metadata": {},
          "output_type": "execute_result"
        }
      ],
      "source": [
        "operation"
      ]
    },
    {
      "cell_type": "code",
      "execution_count": null,
      "metadata": {
        "id": "L-scSZQ7aoqG"
      },
      "outputs": [
        {
          "data": {
            "text/plain": [
              "{'name': 'tunedModels/number-generator-ncqqnysl74dt/operations/qqlbwzfyzn0k',\n",
              " 'metadata': {'@type': 'type.googleapis.com/google.ai.generativelanguage.v1beta3.CreateTunedModelMetadata',\n",
              "  'totalSteps': 12,\n",
              "  'tunedModel': 'tunedModels/number-generator-ncqqnysl74dt'}}"
            ]
          },
          "execution_count": 41,
          "metadata": {},
          "output_type": "execute_result"
        }
      ],
      "source": [
        "operation.json()"
      ]
    },
    {
      "cell_type": "markdown",
      "metadata": {
        "id": "2ymEe60etcsu"
      },
      "source": [
        "設定一個變數，其名稱為已調整模型，用於其餘呼叫。\n"
      ]
    },
    {
      "cell_type": "code",
      "execution_count": null,
      "metadata": {
        "id": "iGyc1yWOCRMz"
      },
      "outputs": [
        {
          "data": {
            "application/vnd.google.colaboratory.intrinsic+json": {
              "type": "string"
            },
            "text/plain": [
              "'tunedModels/number-generator-ncqqnysl74dt'"
            ]
          },
          "execution_count": 42,
          "metadata": {},
          "output_type": "execute_result"
        }
      ],
      "source": [
        "name=operation.json()[\"metadata\"][\"tunedModel\"]\n",
        "name\n"
      ]
    },
    {
      "cell_type": "markdown",
      "metadata": {
        "id": "xq1vdaK4hZEI"
      },
      "source": [
        "### 取得已調整的模型狀態\n"
      ]
    },
    {
      "cell_type": "markdown",
      "metadata": {
        "id": "xO0Ms0K5hcWM"
      },
      "source": [
        "你可以透過檢查狀態欄位，來了解調整工作進度。`CREATING` 表示調整工作仍在進行中，而 `ACTIVE` 表示訓練完成，而且經過調整的模型已準備好使用。\n"
      ]
    },
    {
      "cell_type": "code",
      "execution_count": null,
      "metadata": {
        "id": "Ms6u3X7vel12"
      },
      "outputs": [],
      "source": [
        "tuned_model = requests.get(\n",
        "    url = f'{base_url}/v1beta3/{name}',\n",
        "    headers=headers,\n",
        ")"
      ]
    },
    {
      "cell_type": "code",
      "execution_count": null,
      "metadata": {
        "id": "ohfKsMlYfH7m"
      },
      "outputs": [
        {
          "data": {
            "text/plain": [
              "{'name': 'tunedModels/number-generator-ncqqnysl74dt',\n",
              " 'baseModel': 'models/text-bison-001',\n",
              " 'displayName': 'number generator',\n",
              " 'state': 'CREATING',\n",
              " 'createTime': '2023-09-19T19:56:25.999303Z',\n",
              " 'updateTime': '2023-09-19T19:56:25.999303Z',\n",
              " 'tuningTask': {'startTime': '2023-09-19T19:56:26.297862545Z',\n",
              "  'hyperparameters': {'epochCount': 3, 'batchSize': 4, 'learningRate': 0.001}},\n",
              " 'temperature': 0.7,\n",
              " 'topP': 0.95,\n",
              " 'topK': 40}"
            ]
          },
          "execution_count": 44,
          "metadata": {},
          "output_type": "execute_result"
        }
      ],
      "source": [
        "tuned_model.json()"
      ]
    },
    {
      "cell_type": "markdown",
      "metadata": {
        "id": "WEbNjFRKaFbX"
      },
      "source": [
        "以下程式碼每 5 秒檢查一次狀態欄位，直到它不再處於 `CREATING` 狀態。\n"
      ]
    },
    {
      "cell_type": "code",
      "execution_count": null,
      "metadata": {
        "id": "Oleh5athmo-4"
      },
      "outputs": [
        {
          "name": "stdout",
          "output_type": "stream",
          "text": [
            "21.28% - {'step': 40, 'epoch': 10, 'meanLoss': 2.4871845, 'computeTime': '2023-09-20T00:23:55.255785843Z'}\n",
            "\n",
            "21.28% - {'step': 40, 'epoch': 10, 'meanLoss': 2.4871845, 'computeTime': '2023-09-20T00:23:55.255785843Z'}\n",
            "\n",
            "43.09% - {'step': 81, 'epoch': 21, 'meanLoss': 0.032220088, 'computeTime': '2023-09-20T00:24:56.302837803Z'}\n",
            "\n",
            "43.09% - {'step': 81, 'epoch': 21, 'meanLoss': 0.032220088, 'computeTime': '2023-09-20T00:24:56.302837803Z'}\n",
            "\n",
            "63.83% - {'step': 120, 'epoch': 32, 'meanLoss': 0.0030430648, 'computeTime': '2023-09-20T00:25:57.228615435Z'}\n",
            "\n",
            "63.83% - {'step': 120, 'epoch': 32, 'meanLoss': 0.0030430648, 'computeTime': '2023-09-20T00:25:57.228615435Z'}\n",
            "\n",
            "85.11% - {'step': 160, 'epoch': 42, 'meanLoss': -1.1145603e-06, 'computeTime': '2023-09-20T00:26:57.819011896Z'}\n",
            "\n",
            "100.00% - {'step': 188, 'epoch': 50, 'meanLoss': 0.00040101097, 'computeTime': '2023-09-20T00:27:40.024132813Z'}\n",
            "\n"
          ]
        }
      ],
      "source": [
        "import time\n",
        "import pprint\n",
        "\n",
        "op_json = operation.json()\n",
        "response = op_json.get('response')\n",
        "error = op_json.get('error')\n",
        "\n",
        "while response is None and error is None:\n",
        "    time.sleep(31)\n",
        "\n",
        "    operation = requests.get(\n",
        "        url = f'{base_url}/v1/{op_json[\"name\"]}',\n",
        "        headers=headers,\n",
        "    )\n",
        "\n",
        "    op_json = operation.json()\n",
        "    response = op_json.get('response')\n",
        "    error = op_json.get('error')\n",
        "\n",
        "    percent = op_json['metadata'].get('completedPercent')\n",
        "    if percent is not None:\n",
        "      print(f\"{percent:.2f}% - {op_json['metadata']['snapshots'][-1]}\")\n",
        "      print()\n",
        "\n",
        "if error is not None:\n",
        "    raise Exception(error)"
      ]
    },
    {
      "cell_type": "markdown",
      "metadata": {
        "id": "sQRt4u1hIZ9a"
      },
      "source": [
        "### 執行推論\n",
        "\n",
        "當微調工作完成後，你可以使用它來和使用基本文字模型相同的方式產生文字。\n"
      ]
    },
    {
      "cell_type": "code",
      "execution_count": null,
      "metadata": {
        "id": "ZVVrt-yiIZ9h"
      },
      "outputs": [],
      "source": [
        "import time\n",
        "\n",
        "m = requests.post(\n",
        "    url = f'{base_url}/v1beta3/{name}:generateText',\n",
        "    headers=headers,\n",
        "    json= {\n",
        "         \"prompt\": {\n",
        "              \"text\": \"9\"\n",
        "              },\n",
        "    })"
      ]
    },
    {
      "cell_type": "code",
      "execution_count": null,
      "metadata": {
        "id": "i-cFTviPIZ9h"
      },
      "outputs": [
        {
          "name": "stdout",
          "output_type": "stream",
          "text": [
            "9\n"
          ]
        }
      ],
      "source": [
        "import pprint\n",
        "print(m.json()['candidates'][0]['output'])"
      ]
    },
    {
      "cell_type": "markdown",
      "metadata": {
        "id": "kI6PAEx4fN_M"
      },
      "source": [
        "你模型的輸出是否正確尚不明確。如果調整後的模型未達到你的所需標準，你可以嘗試添加更多高品質範例、調整超參數或為範例添加前置頁。\n"
      ]
    },
    {
      "cell_type": "markdown",
      "metadata": {
        "id": "yRDAbJdYBXuj"
      },
      "source": [
        "## 後續步驟\n",
        "\n",
        "* 參閱 [使用 Python 的調整快速入門](tuning_quickstart_python)，開始使用調整服務編碼。\n",
        "* 參閱 [調整指南](../guide/model_tuning_guidance)，深入了解如何針對你的使用案例最佳調整模型。\n"
      ]
    }
  ],
  "metadata": {
    "colab": {
      "name": "tuning_quickstart_rest.ipynb",
      "toc_visible": true
    },
    "kernelspec": {
      "display_name": "Python 3",
      "name": "python3"
    }
  },
  "nbformat": 4,
  "nbformat_minor": 0
}